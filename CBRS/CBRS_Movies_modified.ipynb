{
 "cells": [
  {
   "cell_type": "markdown",
   "metadata": {},
   "source": [
    "### Домашнее задание к теме:   \n",
    "**Рекомендации на основе содержания**"
   ]
  },
  {
   "cell_type": "markdown",
   "metadata": {},
   "source": [
    "1. Использовать датасет [MovieLens](https://grouplens.org/datasets/movielens/latest/)  \n",
    "2. Построить рекомендации (регрессия, предсказываем оценку) на фичах:  \n",
    " TF-IDF на тегах и жанрах    \n",
    " Средние оценки (+median, variance, etc.) пользователя и фильма  \n",
    "3. Оценить RMSE на тестовой выборке"
   ]
  },
  {
   "cell_type": "code",
   "execution_count": 2,
   "metadata": {},
   "outputs": [],
   "source": [
    "import pandas as pd\n",
    "import numpy as np\n",
    "import matplotlib.pyplot as plt\n",
    "from datetime import datetime\n",
    "import warnings\n",
    "warnings.filterwarnings(\"ignore\")\n",
    "%matplotlib inline"
   ]
  },
  {
   "cell_type": "markdown",
   "metadata": {},
   "source": [
    "Познакомимся с таблицами в датасете:"
   ]
  },
  {
   "cell_type": "code",
   "execution_count": 3,
   "metadata": {},
   "outputs": [],
   "source": [
    "links = pd.read_csv('links.csv')\n",
    "movies = pd.read_csv('movies.csv')\n",
    "ratings = pd.read_csv('ratings.csv')\n",
    "tags = pd.read_csv('tags.csv')"
   ]
  },
  {
   "cell_type": "code",
   "execution_count": 4,
   "metadata": {},
   "outputs": [
    {
     "data": {
      "text/html": [
       "<div>\n",
       "<style scoped>\n",
       "    .dataframe tbody tr th:only-of-type {\n",
       "        vertical-align: middle;\n",
       "    }\n",
       "\n",
       "    .dataframe tbody tr th {\n",
       "        vertical-align: top;\n",
       "    }\n",
       "\n",
       "    .dataframe thead th {\n",
       "        text-align: right;\n",
       "    }\n",
       "</style>\n",
       "<table border=\"1\" class=\"dataframe\">\n",
       "  <thead>\n",
       "    <tr style=\"text-align: right;\">\n",
       "      <th></th>\n",
       "      <th>movieId</th>\n",
       "      <th>imdbId</th>\n",
       "      <th>tmdbId</th>\n",
       "    </tr>\n",
       "  </thead>\n",
       "  <tbody>\n",
       "    <tr>\n",
       "      <th>0</th>\n",
       "      <td>1</td>\n",
       "      <td>114709</td>\n",
       "      <td>862.0</td>\n",
       "    </tr>\n",
       "    <tr>\n",
       "      <th>1</th>\n",
       "      <td>2</td>\n",
       "      <td>113497</td>\n",
       "      <td>8844.0</td>\n",
       "    </tr>\n",
       "    <tr>\n",
       "      <th>2</th>\n",
       "      <td>3</td>\n",
       "      <td>113228</td>\n",
       "      <td>15602.0</td>\n",
       "    </tr>\n",
       "    <tr>\n",
       "      <th>3</th>\n",
       "      <td>4</td>\n",
       "      <td>114885</td>\n",
       "      <td>31357.0</td>\n",
       "    </tr>\n",
       "    <tr>\n",
       "      <th>4</th>\n",
       "      <td>5</td>\n",
       "      <td>113041</td>\n",
       "      <td>11862.0</td>\n",
       "    </tr>\n",
       "  </tbody>\n",
       "</table>\n",
       "</div>"
      ],
      "text/plain": [
       "   movieId  imdbId   tmdbId\n",
       "0        1  114709    862.0\n",
       "1        2  113497   8844.0\n",
       "2        3  113228  15602.0\n",
       "3        4  114885  31357.0\n",
       "4        5  113041  11862.0"
      ]
     },
     "execution_count": 4,
     "metadata": {},
     "output_type": "execute_result"
    }
   ],
   "source": [
    "links.head()"
   ]
  },
  {
   "cell_type": "markdown",
   "metadata": {},
   "source": [
    "Специфичная информация заложена в данной таблице. Как я понял, это три разных видеоресурса, с помощью которых можно найти конкретный фильм. Всё понятно из описания датасета [MovieLens](https://grouplens.org/datasets/movielens/latest/). Данная таблица особой ценности не представляет, в дальнейшем использовать не будем."
   ]
  },
  {
   "cell_type": "code",
   "execution_count": 5,
   "metadata": {},
   "outputs": [
    {
     "data": {
      "text/html": [
       "<div>\n",
       "<style scoped>\n",
       "    .dataframe tbody tr th:only-of-type {\n",
       "        vertical-align: middle;\n",
       "    }\n",
       "\n",
       "    .dataframe tbody tr th {\n",
       "        vertical-align: top;\n",
       "    }\n",
       "\n",
       "    .dataframe thead th {\n",
       "        text-align: right;\n",
       "    }\n",
       "</style>\n",
       "<table border=\"1\" class=\"dataframe\">\n",
       "  <thead>\n",
       "    <tr style=\"text-align: right;\">\n",
       "      <th></th>\n",
       "      <th>movieId</th>\n",
       "      <th>title</th>\n",
       "      <th>genres</th>\n",
       "    </tr>\n",
       "  </thead>\n",
       "  <tbody>\n",
       "    <tr>\n",
       "      <th>0</th>\n",
       "      <td>1</td>\n",
       "      <td>Toy Story (1995)</td>\n",
       "      <td>Adventure|Animation|Children|Comedy|Fantasy</td>\n",
       "    </tr>\n",
       "    <tr>\n",
       "      <th>1</th>\n",
       "      <td>2</td>\n",
       "      <td>Jumanji (1995)</td>\n",
       "      <td>Adventure|Children|Fantasy</td>\n",
       "    </tr>\n",
       "    <tr>\n",
       "      <th>2</th>\n",
       "      <td>3</td>\n",
       "      <td>Grumpier Old Men (1995)</td>\n",
       "      <td>Comedy|Romance</td>\n",
       "    </tr>\n",
       "    <tr>\n",
       "      <th>3</th>\n",
       "      <td>4</td>\n",
       "      <td>Waiting to Exhale (1995)</td>\n",
       "      <td>Comedy|Drama|Romance</td>\n",
       "    </tr>\n",
       "    <tr>\n",
       "      <th>4</th>\n",
       "      <td>5</td>\n",
       "      <td>Father of the Bride Part II (1995)</td>\n",
       "      <td>Comedy</td>\n",
       "    </tr>\n",
       "  </tbody>\n",
       "</table>\n",
       "</div>"
      ],
      "text/plain": [
       "   movieId                               title  \\\n",
       "0        1                    Toy Story (1995)   \n",
       "1        2                      Jumanji (1995)   \n",
       "2        3             Grumpier Old Men (1995)   \n",
       "3        4            Waiting to Exhale (1995)   \n",
       "4        5  Father of the Bride Part II (1995)   \n",
       "\n",
       "                                        genres  \n",
       "0  Adventure|Animation|Children|Comedy|Fantasy  \n",
       "1                   Adventure|Children|Fantasy  \n",
       "2                               Comedy|Romance  \n",
       "3                         Comedy|Drama|Romance  \n",
       "4                                       Comedy  "
      ]
     },
     "execution_count": 5,
     "metadata": {},
     "output_type": "execute_result"
    }
   ],
   "source": [
    "movies.head()"
   ]
  },
  {
   "cell_type": "code",
   "execution_count": 6,
   "metadata": {},
   "outputs": [
    {
     "data": {
      "text/html": [
       "<div>\n",
       "<style scoped>\n",
       "    .dataframe tbody tr th:only-of-type {\n",
       "        vertical-align: middle;\n",
       "    }\n",
       "\n",
       "    .dataframe tbody tr th {\n",
       "        vertical-align: top;\n",
       "    }\n",
       "\n",
       "    .dataframe thead th {\n",
       "        text-align: right;\n",
       "    }\n",
       "</style>\n",
       "<table border=\"1\" class=\"dataframe\">\n",
       "  <thead>\n",
       "    <tr style=\"text-align: right;\">\n",
       "      <th></th>\n",
       "      <th>userId</th>\n",
       "      <th>movieId</th>\n",
       "      <th>rating</th>\n",
       "      <th>timestamp</th>\n",
       "    </tr>\n",
       "  </thead>\n",
       "  <tbody>\n",
       "    <tr>\n",
       "      <th>0</th>\n",
       "      <td>1</td>\n",
       "      <td>1</td>\n",
       "      <td>4.0</td>\n",
       "      <td>964982703</td>\n",
       "    </tr>\n",
       "    <tr>\n",
       "      <th>1</th>\n",
       "      <td>1</td>\n",
       "      <td>3</td>\n",
       "      <td>4.0</td>\n",
       "      <td>964981247</td>\n",
       "    </tr>\n",
       "    <tr>\n",
       "      <th>2</th>\n",
       "      <td>1</td>\n",
       "      <td>6</td>\n",
       "      <td>4.0</td>\n",
       "      <td>964982224</td>\n",
       "    </tr>\n",
       "    <tr>\n",
       "      <th>3</th>\n",
       "      <td>1</td>\n",
       "      <td>47</td>\n",
       "      <td>5.0</td>\n",
       "      <td>964983815</td>\n",
       "    </tr>\n",
       "    <tr>\n",
       "      <th>4</th>\n",
       "      <td>1</td>\n",
       "      <td>50</td>\n",
       "      <td>5.0</td>\n",
       "      <td>964982931</td>\n",
       "    </tr>\n",
       "  </tbody>\n",
       "</table>\n",
       "</div>"
      ],
      "text/plain": [
       "   userId  movieId  rating  timestamp\n",
       "0       1        1     4.0  964982703\n",
       "1       1        3     4.0  964981247\n",
       "2       1        6     4.0  964982224\n",
       "3       1       47     5.0  964983815\n",
       "4       1       50     5.0  964982931"
      ]
     },
     "execution_count": 6,
     "metadata": {},
     "output_type": "execute_result"
    }
   ],
   "source": [
    "ratings.head()"
   ]
  },
  {
   "cell_type": "code",
   "execution_count": 7,
   "metadata": {},
   "outputs": [
    {
     "data": {
      "text/html": [
       "<div>\n",
       "<style scoped>\n",
       "    .dataframe tbody tr th:only-of-type {\n",
       "        vertical-align: middle;\n",
       "    }\n",
       "\n",
       "    .dataframe tbody tr th {\n",
       "        vertical-align: top;\n",
       "    }\n",
       "\n",
       "    .dataframe thead th {\n",
       "        text-align: right;\n",
       "    }\n",
       "</style>\n",
       "<table border=\"1\" class=\"dataframe\">\n",
       "  <thead>\n",
       "    <tr style=\"text-align: right;\">\n",
       "      <th></th>\n",
       "      <th>userId</th>\n",
       "      <th>movieId</th>\n",
       "      <th>tag</th>\n",
       "      <th>timestamp</th>\n",
       "    </tr>\n",
       "  </thead>\n",
       "  <tbody>\n",
       "    <tr>\n",
       "      <th>0</th>\n",
       "      <td>2</td>\n",
       "      <td>60756</td>\n",
       "      <td>funny</td>\n",
       "      <td>1445714994</td>\n",
       "    </tr>\n",
       "    <tr>\n",
       "      <th>1</th>\n",
       "      <td>2</td>\n",
       "      <td>60756</td>\n",
       "      <td>Highly quotable</td>\n",
       "      <td>1445714996</td>\n",
       "    </tr>\n",
       "    <tr>\n",
       "      <th>2</th>\n",
       "      <td>2</td>\n",
       "      <td>60756</td>\n",
       "      <td>will ferrell</td>\n",
       "      <td>1445714992</td>\n",
       "    </tr>\n",
       "    <tr>\n",
       "      <th>3</th>\n",
       "      <td>2</td>\n",
       "      <td>89774</td>\n",
       "      <td>Boxing story</td>\n",
       "      <td>1445715207</td>\n",
       "    </tr>\n",
       "    <tr>\n",
       "      <th>4</th>\n",
       "      <td>2</td>\n",
       "      <td>89774</td>\n",
       "      <td>MMA</td>\n",
       "      <td>1445715200</td>\n",
       "    </tr>\n",
       "  </tbody>\n",
       "</table>\n",
       "</div>"
      ],
      "text/plain": [
       "   userId  movieId              tag   timestamp\n",
       "0       2    60756            funny  1445714994\n",
       "1       2    60756  Highly quotable  1445714996\n",
       "2       2    60756     will ferrell  1445714992\n",
       "3       2    89774     Boxing story  1445715207\n",
       "4       2    89774              MMA  1445715200"
      ]
     },
     "execution_count": 7,
     "metadata": {},
     "output_type": "execute_result"
    }
   ],
   "source": [
    "tags.head()"
   ]
  },
  {
   "cell_type": "markdown",
   "metadata": {},
   "source": [
    "Посмотрим, сколько строк в каждой из таблиц:"
   ]
  },
  {
   "cell_type": "code",
   "execution_count": 8,
   "metadata": {},
   "outputs": [
    {
     "data": {
      "text/plain": [
       "(9742, 3)"
      ]
     },
     "execution_count": 8,
     "metadata": {},
     "output_type": "execute_result"
    }
   ],
   "source": [
    "links.shape #Для информации, ниже видно, что размерность совпадает с movies.shape"
   ]
  },
  {
   "cell_type": "code",
   "execution_count": 9,
   "metadata": {},
   "outputs": [
    {
     "data": {
      "text/plain": [
       "(9742, 3)"
      ]
     },
     "execution_count": 9,
     "metadata": {},
     "output_type": "execute_result"
    }
   ],
   "source": [
    "movies.shape"
   ]
  },
  {
   "cell_type": "code",
   "execution_count": 10,
   "metadata": {},
   "outputs": [
    {
     "data": {
      "text/plain": [
       "(100836, 4)"
      ]
     },
     "execution_count": 10,
     "metadata": {},
     "output_type": "execute_result"
    }
   ],
   "source": [
    "ratings.shape"
   ]
  },
  {
   "cell_type": "code",
   "execution_count": 11,
   "metadata": {},
   "outputs": [
    {
     "data": {
      "text/plain": [
       "(3683, 4)"
      ]
     },
     "execution_count": 11,
     "metadata": {},
     "output_type": "execute_result"
    }
   ],
   "source": [
    "tags.shape"
   ]
  },
  {
   "cell_type": "markdown",
   "metadata": {},
   "source": [
    "Естественно, есть различия в количестве строк, но для этого надо подготовить данные."
   ]
  },
  {
   "cell_type": "markdown",
   "metadata": {},
   "source": [
    "Функция делает преобразование жанров, заменяет вертикальную черту на пробел, делает все буквы маленькими."
   ]
  },
  {
   "cell_type": "markdown",
   "metadata": {},
   "source": [
    "---"
   ]
  },
  {
   "cell_type": "code",
   "execution_count": 12,
   "metadata": {},
   "outputs": [],
   "source": [
    "def change_string(s):\n",
    "    return ' '.join(s.lower().replace(' ', '').replace('-', '').split('|'))"
   ]
  },
  {
   "cell_type": "markdown",
   "metadata": {},
   "source": [
    "---"
   ]
  },
  {
   "cell_type": "markdown",
   "metadata": {},
   "source": [
    "### Варим фичи"
   ]
  },
  {
   "cell_type": "markdown",
   "metadata": {},
   "source": [
    "Создадим новую датасет из датасета по рейтингам."
   ]
  },
  {
   "cell_type": "code",
   "execution_count": 13,
   "metadata": {},
   "outputs": [
    {
     "data": {
      "text/html": [
       "<div>\n",
       "<style scoped>\n",
       "    .dataframe tbody tr th:only-of-type {\n",
       "        vertical-align: middle;\n",
       "    }\n",
       "\n",
       "    .dataframe tbody tr th {\n",
       "        vertical-align: top;\n",
       "    }\n",
       "\n",
       "    .dataframe thead th {\n",
       "        text-align: right;\n",
       "    }\n",
       "</style>\n",
       "<table border=\"1\" class=\"dataframe\">\n",
       "  <thead>\n",
       "    <tr style=\"text-align: right;\">\n",
       "      <th></th>\n",
       "      <th>userId</th>\n",
       "      <th>movieId</th>\n",
       "      <th>rating</th>\n",
       "    </tr>\n",
       "  </thead>\n",
       "  <tbody>\n",
       "    <tr>\n",
       "      <th>0</th>\n",
       "      <td>1</td>\n",
       "      <td>1</td>\n",
       "      <td>4.0</td>\n",
       "    </tr>\n",
       "    <tr>\n",
       "      <th>1</th>\n",
       "      <td>1</td>\n",
       "      <td>3</td>\n",
       "      <td>4.0</td>\n",
       "    </tr>\n",
       "    <tr>\n",
       "      <th>2</th>\n",
       "      <td>1</td>\n",
       "      <td>6</td>\n",
       "      <td>4.0</td>\n",
       "    </tr>\n",
       "    <tr>\n",
       "      <th>3</th>\n",
       "      <td>1</td>\n",
       "      <td>47</td>\n",
       "      <td>5.0</td>\n",
       "    </tr>\n",
       "    <tr>\n",
       "      <th>4</th>\n",
       "      <td>1</td>\n",
       "      <td>50</td>\n",
       "      <td>5.0</td>\n",
       "    </tr>\n",
       "  </tbody>\n",
       "</table>\n",
       "</div>"
      ],
      "text/plain": [
       "   userId  movieId  rating\n",
       "0       1        1     4.0\n",
       "1       1        3     4.0\n",
       "2       1        6     4.0\n",
       "3       1       47     5.0\n",
       "4       1       50     5.0"
      ]
     },
     "execution_count": 13,
     "metadata": {},
     "output_type": "execute_result"
    }
   ],
   "source": [
    "umr = ratings.copy()\n",
    "del umr['timestamp']\n",
    "umr.head()"
   ]
  },
  {
   "cell_type": "code",
   "execution_count": 14,
   "metadata": {},
   "outputs": [
    {
     "data": {
      "text/plain": [
       "(100836, 3)"
      ]
     },
     "execution_count": 14,
     "metadata": {},
     "output_type": "execute_result"
    }
   ],
   "source": [
    "umr.shape"
   ]
  },
  {
   "cell_type": "markdown",
   "metadata": {},
   "source": [
    "---"
   ]
  },
  {
   "cell_type": "markdown",
   "metadata": {},
   "source": [
    "#### Проведём предварительную оценку по пользователям (средние оценки (+median, variance, etc.) пользователя)."
   ]
  },
  {
   "cell_type": "markdown",
   "metadata": {},
   "source": [
    "Создадим новый датафрейм, куда введём новые фичи, показывающие средние оценки по пользователям."
   ]
  },
  {
   "cell_type": "markdown",
   "metadata": {},
   "source": [
    "Начнём с **median** оценки по рейтингу пользователей"
   ]
  },
  {
   "cell_type": "code",
   "execution_count": 15,
   "metadata": {},
   "outputs": [],
   "source": [
    "umr_users = pd.DataFrame(umr.groupby('userId').rating.median().round(2)).rename(columns={'rating': 'user_median_rating'})"
   ]
  },
  {
   "cell_type": "code",
   "execution_count": 16,
   "metadata": {},
   "outputs": [
    {
     "data": {
      "text/html": [
       "<div>\n",
       "<style scoped>\n",
       "    .dataframe tbody tr th:only-of-type {\n",
       "        vertical-align: middle;\n",
       "    }\n",
       "\n",
       "    .dataframe tbody tr th {\n",
       "        vertical-align: top;\n",
       "    }\n",
       "\n",
       "    .dataframe thead th {\n",
       "        text-align: right;\n",
       "    }\n",
       "</style>\n",
       "<table border=\"1\" class=\"dataframe\">\n",
       "  <thead>\n",
       "    <tr style=\"text-align: right;\">\n",
       "      <th></th>\n",
       "      <th>userId</th>\n",
       "      <th>user_median_rating</th>\n",
       "    </tr>\n",
       "  </thead>\n",
       "  <tbody>\n",
       "    <tr>\n",
       "      <th>0</th>\n",
       "      <td>1</td>\n",
       "      <td>5.0</td>\n",
       "    </tr>\n",
       "    <tr>\n",
       "      <th>1</th>\n",
       "      <td>2</td>\n",
       "      <td>4.0</td>\n",
       "    </tr>\n",
       "    <tr>\n",
       "      <th>2</th>\n",
       "      <td>3</td>\n",
       "      <td>0.5</td>\n",
       "    </tr>\n",
       "    <tr>\n",
       "      <th>3</th>\n",
       "      <td>4</td>\n",
       "      <td>4.0</td>\n",
       "    </tr>\n",
       "    <tr>\n",
       "      <th>4</th>\n",
       "      <td>5</td>\n",
       "      <td>4.0</td>\n",
       "    </tr>\n",
       "  </tbody>\n",
       "</table>\n",
       "</div>"
      ],
      "text/plain": [
       "   userId  user_median_rating\n",
       "0       1                 5.0\n",
       "1       2                 4.0\n",
       "2       3                 0.5\n",
       "3       4                 4.0\n",
       "4       5                 4.0"
      ]
     },
     "execution_count": 16,
     "metadata": {},
     "output_type": "execute_result"
    }
   ],
   "source": [
    "umr_users.reset_index().head()"
   ]
  },
  {
   "cell_type": "code",
   "execution_count": 17,
   "metadata": {},
   "outputs": [
    {
     "data": {
      "text/plain": [
       "(610, 1)"
      ]
     },
     "execution_count": 17,
     "metadata": {},
     "output_type": "execute_result"
    }
   ],
   "source": [
    "umr_users.shape"
   ]
  },
  {
   "cell_type": "markdown",
   "metadata": {},
   "source": [
    "Добавим колонку с **variance** значением по рейтингу пользователей."
   ]
  },
  {
   "cell_type": "code",
   "execution_count": 18,
   "metadata": {},
   "outputs": [],
   "source": [
    "umr_users = pd.merge(umr_users, pd.DataFrame(umr.groupby('userId').rating.var().round(2)).rename(columns={'rating': 'user_variance_rating'}),\n",
    "         left_index=True,\n",
    "         right_index=True)"
   ]
  },
  {
   "cell_type": "code",
   "execution_count": 19,
   "metadata": {},
   "outputs": [
    {
     "data": {
      "text/html": [
       "<div>\n",
       "<style scoped>\n",
       "    .dataframe tbody tr th:only-of-type {\n",
       "        vertical-align: middle;\n",
       "    }\n",
       "\n",
       "    .dataframe tbody tr th {\n",
       "        vertical-align: top;\n",
       "    }\n",
       "\n",
       "    .dataframe thead th {\n",
       "        text-align: right;\n",
       "    }\n",
       "</style>\n",
       "<table border=\"1\" class=\"dataframe\">\n",
       "  <thead>\n",
       "    <tr style=\"text-align: right;\">\n",
       "      <th></th>\n",
       "      <th>userId</th>\n",
       "      <th>user_median_rating</th>\n",
       "      <th>user_variance_rating</th>\n",
       "    </tr>\n",
       "  </thead>\n",
       "  <tbody>\n",
       "    <tr>\n",
       "      <th>0</th>\n",
       "      <td>1</td>\n",
       "      <td>5.0</td>\n",
       "      <td>0.64</td>\n",
       "    </tr>\n",
       "    <tr>\n",
       "      <th>1</th>\n",
       "      <td>2</td>\n",
       "      <td>4.0</td>\n",
       "      <td>0.65</td>\n",
       "    </tr>\n",
       "    <tr>\n",
       "      <th>2</th>\n",
       "      <td>3</td>\n",
       "      <td>0.5</td>\n",
       "      <td>4.37</td>\n",
       "    </tr>\n",
       "    <tr>\n",
       "      <th>3</th>\n",
       "      <td>4</td>\n",
       "      <td>4.0</td>\n",
       "      <td>1.73</td>\n",
       "    </tr>\n",
       "    <tr>\n",
       "      <th>4</th>\n",
       "      <td>5</td>\n",
       "      <td>4.0</td>\n",
       "      <td>0.98</td>\n",
       "    </tr>\n",
       "  </tbody>\n",
       "</table>\n",
       "</div>"
      ],
      "text/plain": [
       "   userId  user_median_rating  user_variance_rating\n",
       "0       1                 5.0                  0.64\n",
       "1       2                 4.0                  0.65\n",
       "2       3                 0.5                  4.37\n",
       "3       4                 4.0                  1.73\n",
       "4       5                 4.0                  0.98"
      ]
     },
     "execution_count": 19,
     "metadata": {},
     "output_type": "execute_result"
    }
   ],
   "source": [
    "umr_users.reset_index().head()"
   ]
  },
  {
   "cell_type": "markdown",
   "metadata": {},
   "source": [
    "Добавим колонку с **min** значением по рейтингу пользователей."
   ]
  },
  {
   "cell_type": "code",
   "execution_count": 20,
   "metadata": {},
   "outputs": [],
   "source": [
    "umr_users = pd.merge(umr_users, pd.DataFrame(umr.groupby('userId').rating.min().round(2)).rename(columns={'rating': 'user_min_rating'}),\n",
    "         left_index=True,\n",
    "         right_index=True)"
   ]
  },
  {
   "cell_type": "code",
   "execution_count": 21,
   "metadata": {},
   "outputs": [
    {
     "data": {
      "text/html": [
       "<div>\n",
       "<style scoped>\n",
       "    .dataframe tbody tr th:only-of-type {\n",
       "        vertical-align: middle;\n",
       "    }\n",
       "\n",
       "    .dataframe tbody tr th {\n",
       "        vertical-align: top;\n",
       "    }\n",
       "\n",
       "    .dataframe thead th {\n",
       "        text-align: right;\n",
       "    }\n",
       "</style>\n",
       "<table border=\"1\" class=\"dataframe\">\n",
       "  <thead>\n",
       "    <tr style=\"text-align: right;\">\n",
       "      <th></th>\n",
       "      <th>userId</th>\n",
       "      <th>user_median_rating</th>\n",
       "      <th>user_variance_rating</th>\n",
       "      <th>user_min_rating</th>\n",
       "    </tr>\n",
       "  </thead>\n",
       "  <tbody>\n",
       "    <tr>\n",
       "      <th>0</th>\n",
       "      <td>1</td>\n",
       "      <td>5.0</td>\n",
       "      <td>0.64</td>\n",
       "      <td>1.0</td>\n",
       "    </tr>\n",
       "    <tr>\n",
       "      <th>1</th>\n",
       "      <td>2</td>\n",
       "      <td>4.0</td>\n",
       "      <td>0.65</td>\n",
       "      <td>2.0</td>\n",
       "    </tr>\n",
       "    <tr>\n",
       "      <th>2</th>\n",
       "      <td>3</td>\n",
       "      <td>0.5</td>\n",
       "      <td>4.37</td>\n",
       "      <td>0.5</td>\n",
       "    </tr>\n",
       "    <tr>\n",
       "      <th>3</th>\n",
       "      <td>4</td>\n",
       "      <td>4.0</td>\n",
       "      <td>1.73</td>\n",
       "      <td>1.0</td>\n",
       "    </tr>\n",
       "    <tr>\n",
       "      <th>4</th>\n",
       "      <td>5</td>\n",
       "      <td>4.0</td>\n",
       "      <td>0.98</td>\n",
       "      <td>1.0</td>\n",
       "    </tr>\n",
       "  </tbody>\n",
       "</table>\n",
       "</div>"
      ],
      "text/plain": [
       "   userId  user_median_rating  user_variance_rating  user_min_rating\n",
       "0       1                 5.0                  0.64              1.0\n",
       "1       2                 4.0                  0.65              2.0\n",
       "2       3                 0.5                  4.37              0.5\n",
       "3       4                 4.0                  1.73              1.0\n",
       "4       5                 4.0                  0.98              1.0"
      ]
     },
     "execution_count": 21,
     "metadata": {},
     "output_type": "execute_result"
    }
   ],
   "source": [
    "umr_users.reset_index().head()"
   ]
  },
  {
   "cell_type": "markdown",
   "metadata": {},
   "source": [
    "Добавим колонку с **max** значением по рейтингу пользователей."
   ]
  },
  {
   "cell_type": "code",
   "execution_count": 22,
   "metadata": {},
   "outputs": [],
   "source": [
    "umr_users = pd.merge(umr_users, pd.DataFrame(umr.groupby('userId').rating.max().round(2)).rename(columns={'rating': 'user_max_rating'}),\n",
    "         left_index=True,\n",
    "         right_index=True)"
   ]
  },
  {
   "cell_type": "code",
   "execution_count": 23,
   "metadata": {},
   "outputs": [
    {
     "data": {
      "text/html": [
       "<div>\n",
       "<style scoped>\n",
       "    .dataframe tbody tr th:only-of-type {\n",
       "        vertical-align: middle;\n",
       "    }\n",
       "\n",
       "    .dataframe tbody tr th {\n",
       "        vertical-align: top;\n",
       "    }\n",
       "\n",
       "    .dataframe thead th {\n",
       "        text-align: right;\n",
       "    }\n",
       "</style>\n",
       "<table border=\"1\" class=\"dataframe\">\n",
       "  <thead>\n",
       "    <tr style=\"text-align: right;\">\n",
       "      <th></th>\n",
       "      <th>userId</th>\n",
       "      <th>user_median_rating</th>\n",
       "      <th>user_variance_rating</th>\n",
       "      <th>user_min_rating</th>\n",
       "      <th>user_max_rating</th>\n",
       "    </tr>\n",
       "  </thead>\n",
       "  <tbody>\n",
       "    <tr>\n",
       "      <th>0</th>\n",
       "      <td>1</td>\n",
       "      <td>5.0</td>\n",
       "      <td>0.64</td>\n",
       "      <td>1.0</td>\n",
       "      <td>5.0</td>\n",
       "    </tr>\n",
       "    <tr>\n",
       "      <th>1</th>\n",
       "      <td>2</td>\n",
       "      <td>4.0</td>\n",
       "      <td>0.65</td>\n",
       "      <td>2.0</td>\n",
       "      <td>5.0</td>\n",
       "    </tr>\n",
       "    <tr>\n",
       "      <th>2</th>\n",
       "      <td>3</td>\n",
       "      <td>0.5</td>\n",
       "      <td>4.37</td>\n",
       "      <td>0.5</td>\n",
       "      <td>5.0</td>\n",
       "    </tr>\n",
       "    <tr>\n",
       "      <th>3</th>\n",
       "      <td>4</td>\n",
       "      <td>4.0</td>\n",
       "      <td>1.73</td>\n",
       "      <td>1.0</td>\n",
       "      <td>5.0</td>\n",
       "    </tr>\n",
       "    <tr>\n",
       "      <th>4</th>\n",
       "      <td>5</td>\n",
       "      <td>4.0</td>\n",
       "      <td>0.98</td>\n",
       "      <td>1.0</td>\n",
       "      <td>5.0</td>\n",
       "    </tr>\n",
       "  </tbody>\n",
       "</table>\n",
       "</div>"
      ],
      "text/plain": [
       "   userId  user_median_rating  user_variance_rating  user_min_rating  \\\n",
       "0       1                 5.0                  0.64              1.0   \n",
       "1       2                 4.0                  0.65              2.0   \n",
       "2       3                 0.5                  4.37              0.5   \n",
       "3       4                 4.0                  1.73              1.0   \n",
       "4       5                 4.0                  0.98              1.0   \n",
       "\n",
       "   user_max_rating  \n",
       "0              5.0  \n",
       "1              5.0  \n",
       "2              5.0  \n",
       "3              5.0  \n",
       "4              5.0  "
      ]
     },
     "execution_count": 23,
     "metadata": {},
     "output_type": "execute_result"
    }
   ],
   "source": [
    "umr_users.reset_index().head()"
   ]
  },
  {
   "cell_type": "markdown",
   "metadata": {},
   "source": [
    "Добавим колонку с **mean** значением по рейтингу пользователей."
   ]
  },
  {
   "cell_type": "code",
   "execution_count": 24,
   "metadata": {},
   "outputs": [],
   "source": [
    "umr_users = pd.merge(umr_users, pd.DataFrame(umr.groupby('userId').rating.mean().round(2)).rename(columns={'rating': 'user_mean_rating'}),\n",
    "         left_index=True,\n",
    "         right_index=True)"
   ]
  },
  {
   "cell_type": "code",
   "execution_count": 25,
   "metadata": {},
   "outputs": [
    {
     "data": {
      "text/html": [
       "<div>\n",
       "<style scoped>\n",
       "    .dataframe tbody tr th:only-of-type {\n",
       "        vertical-align: middle;\n",
       "    }\n",
       "\n",
       "    .dataframe tbody tr th {\n",
       "        vertical-align: top;\n",
       "    }\n",
       "\n",
       "    .dataframe thead th {\n",
       "        text-align: right;\n",
       "    }\n",
       "</style>\n",
       "<table border=\"1\" class=\"dataframe\">\n",
       "  <thead>\n",
       "    <tr style=\"text-align: right;\">\n",
       "      <th></th>\n",
       "      <th>userId</th>\n",
       "      <th>user_median_rating</th>\n",
       "      <th>user_variance_rating</th>\n",
       "      <th>user_min_rating</th>\n",
       "      <th>user_max_rating</th>\n",
       "      <th>user_mean_rating</th>\n",
       "    </tr>\n",
       "  </thead>\n",
       "  <tbody>\n",
       "    <tr>\n",
       "      <th>0</th>\n",
       "      <td>1</td>\n",
       "      <td>5.0</td>\n",
       "      <td>0.64</td>\n",
       "      <td>1.0</td>\n",
       "      <td>5.0</td>\n",
       "      <td>4.37</td>\n",
       "    </tr>\n",
       "    <tr>\n",
       "      <th>1</th>\n",
       "      <td>2</td>\n",
       "      <td>4.0</td>\n",
       "      <td>0.65</td>\n",
       "      <td>2.0</td>\n",
       "      <td>5.0</td>\n",
       "      <td>3.95</td>\n",
       "    </tr>\n",
       "    <tr>\n",
       "      <th>2</th>\n",
       "      <td>3</td>\n",
       "      <td>0.5</td>\n",
       "      <td>4.37</td>\n",
       "      <td>0.5</td>\n",
       "      <td>5.0</td>\n",
       "      <td>2.44</td>\n",
       "    </tr>\n",
       "    <tr>\n",
       "      <th>3</th>\n",
       "      <td>4</td>\n",
       "      <td>4.0</td>\n",
       "      <td>1.73</td>\n",
       "      <td>1.0</td>\n",
       "      <td>5.0</td>\n",
       "      <td>3.56</td>\n",
       "    </tr>\n",
       "    <tr>\n",
       "      <th>4</th>\n",
       "      <td>5</td>\n",
       "      <td>4.0</td>\n",
       "      <td>0.98</td>\n",
       "      <td>1.0</td>\n",
       "      <td>5.0</td>\n",
       "      <td>3.64</td>\n",
       "    </tr>\n",
       "  </tbody>\n",
       "</table>\n",
       "</div>"
      ],
      "text/plain": [
       "   userId  user_median_rating  user_variance_rating  user_min_rating  \\\n",
       "0       1                 5.0                  0.64              1.0   \n",
       "1       2                 4.0                  0.65              2.0   \n",
       "2       3                 0.5                  4.37              0.5   \n",
       "3       4                 4.0                  1.73              1.0   \n",
       "4       5                 4.0                  0.98              1.0   \n",
       "\n",
       "   user_max_rating  user_mean_rating  \n",
       "0              5.0              4.37  \n",
       "1              5.0              3.95  \n",
       "2              5.0              2.44  \n",
       "3              5.0              3.56  \n",
       "4              5.0              3.64  "
      ]
     },
     "execution_count": 25,
     "metadata": {},
     "output_type": "execute_result"
    }
   ],
   "source": [
    "umr_users.reset_index().head()"
   ]
  },
  {
   "cell_type": "code",
   "execution_count": 26,
   "metadata": {},
   "outputs": [
    {
     "data": {
      "text/plain": [
       "(610, 5)"
      ]
     },
     "execution_count": 26,
     "metadata": {},
     "output_type": "execute_result"
    }
   ],
   "source": [
    "umr_users.shape"
   ]
  },
  {
   "cell_type": "markdown",
   "metadata": {},
   "source": [
    "#### Проведём предварительную оценку по фильмам (средние оценки (+median, variance, etc.) фильма)."
   ]
  },
  {
   "cell_type": "markdown",
   "metadata": {},
   "source": [
    "$\\odot$ **movie_median_rating**"
   ]
  },
  {
   "cell_type": "code",
   "execution_count": 27,
   "metadata": {},
   "outputs": [],
   "source": [
    "umr_films = pd.DataFrame(umr.groupby('movieId').rating.median().round(2)).rename(columns={'rating': 'movie_median_rating'})"
   ]
  },
  {
   "cell_type": "markdown",
   "metadata": {},
   "source": [
    "$\\odot$ **movie_variance_rating**"
   ]
  },
  {
   "cell_type": "code",
   "execution_count": 28,
   "metadata": {},
   "outputs": [],
   "source": [
    "umr_films = pd.merge(umr_films, pd.DataFrame(umr.groupby('movieId').rating.var().round(2)).rename(columns={'rating': 'movie_variance_rating'}),\n",
    "         left_index=True,\n",
    "         right_index=True).fillna(0)"
   ]
  },
  {
   "cell_type": "markdown",
   "metadata": {},
   "source": [
    "$\\odot$ **movie_min_rating**"
   ]
  },
  {
   "cell_type": "code",
   "execution_count": 29,
   "metadata": {},
   "outputs": [],
   "source": [
    "umr_films = pd.merge(umr_films, pd.DataFrame(umr.groupby('movieId').rating.min().round(2)).rename(columns={'rating': 'movie_min_rating'}),\n",
    "         left_index=True,\n",
    "         right_index=True)"
   ]
  },
  {
   "cell_type": "markdown",
   "metadata": {},
   "source": [
    "$\\odot$ **movie_max_rating**"
   ]
  },
  {
   "cell_type": "code",
   "execution_count": 30,
   "metadata": {},
   "outputs": [],
   "source": [
    "umr_films = pd.merge(umr_films, pd.DataFrame(umr.groupby('movieId').rating.max().round(2)).rename(columns={'rating': 'movie_max_rating'}),\n",
    "         left_index=True,\n",
    "         right_index=True)"
   ]
  },
  {
   "cell_type": "markdown",
   "metadata": {},
   "source": [
    "$\\odot$ **movie_mean_rating**"
   ]
  },
  {
   "cell_type": "code",
   "execution_count": 31,
   "metadata": {},
   "outputs": [],
   "source": [
    "umr_films = pd.merge(umr_films, pd.DataFrame(umr.groupby('movieId').rating.mean().round(2)).rename(columns={'rating': 'movie_mean_rating'}),\n",
    "         left_index=True,\n",
    "         right_index=True)"
   ]
  },
  {
   "cell_type": "code",
   "execution_count": 32,
   "metadata": {},
   "outputs": [
    {
     "data": {
      "text/html": [
       "<div>\n",
       "<style scoped>\n",
       "    .dataframe tbody tr th:only-of-type {\n",
       "        vertical-align: middle;\n",
       "    }\n",
       "\n",
       "    .dataframe tbody tr th {\n",
       "        vertical-align: top;\n",
       "    }\n",
       "\n",
       "    .dataframe thead th {\n",
       "        text-align: right;\n",
       "    }\n",
       "</style>\n",
       "<table border=\"1\" class=\"dataframe\">\n",
       "  <thead>\n",
       "    <tr style=\"text-align: right;\">\n",
       "      <th></th>\n",
       "      <th>movieId</th>\n",
       "      <th>movie_median_rating</th>\n",
       "      <th>movie_variance_rating</th>\n",
       "      <th>movie_min_rating</th>\n",
       "      <th>movie_max_rating</th>\n",
       "      <th>movie_mean_rating</th>\n",
       "    </tr>\n",
       "  </thead>\n",
       "  <tbody>\n",
       "    <tr>\n",
       "      <th>0</th>\n",
       "      <td>1</td>\n",
       "      <td>4.0</td>\n",
       "      <td>0.70</td>\n",
       "      <td>0.5</td>\n",
       "      <td>5.0</td>\n",
       "      <td>3.92</td>\n",
       "    </tr>\n",
       "    <tr>\n",
       "      <th>1</th>\n",
       "      <td>2</td>\n",
       "      <td>3.5</td>\n",
       "      <td>0.78</td>\n",
       "      <td>0.5</td>\n",
       "      <td>5.0</td>\n",
       "      <td>3.43</td>\n",
       "    </tr>\n",
       "    <tr>\n",
       "      <th>2</th>\n",
       "      <td>3</td>\n",
       "      <td>3.0</td>\n",
       "      <td>1.11</td>\n",
       "      <td>0.5</td>\n",
       "      <td>5.0</td>\n",
       "      <td>3.26</td>\n",
       "    </tr>\n",
       "    <tr>\n",
       "      <th>3</th>\n",
       "      <td>4</td>\n",
       "      <td>3.0</td>\n",
       "      <td>0.73</td>\n",
       "      <td>1.0</td>\n",
       "      <td>3.0</td>\n",
       "      <td>2.36</td>\n",
       "    </tr>\n",
       "    <tr>\n",
       "      <th>4</th>\n",
       "      <td>5</td>\n",
       "      <td>3.0</td>\n",
       "      <td>0.82</td>\n",
       "      <td>0.5</td>\n",
       "      <td>5.0</td>\n",
       "      <td>3.07</td>\n",
       "    </tr>\n",
       "  </tbody>\n",
       "</table>\n",
       "</div>"
      ],
      "text/plain": [
       "   movieId  movie_median_rating  movie_variance_rating  movie_min_rating  \\\n",
       "0        1                  4.0                   0.70               0.5   \n",
       "1        2                  3.5                   0.78               0.5   \n",
       "2        3                  3.0                   1.11               0.5   \n",
       "3        4                  3.0                   0.73               1.0   \n",
       "4        5                  3.0                   0.82               0.5   \n",
       "\n",
       "   movie_max_rating  movie_mean_rating  \n",
       "0               5.0               3.92  \n",
       "1               5.0               3.43  \n",
       "2               5.0               3.26  \n",
       "3               3.0               2.36  \n",
       "4               5.0               3.07  "
      ]
     },
     "execution_count": 32,
     "metadata": {},
     "output_type": "execute_result"
    }
   ],
   "source": [
    "umr_films.reset_index().head()"
   ]
  },
  {
   "cell_type": "code",
   "execution_count": 33,
   "metadata": {},
   "outputs": [
    {
     "data": {
      "text/plain": [
       "(9724, 5)"
      ]
     },
     "execution_count": 33,
     "metadata": {},
     "output_type": "execute_result"
    }
   ],
   "source": [
    "umr_films.shape"
   ]
  },
  {
   "cell_type": "markdown",
   "metadata": {},
   "source": [
    "Уникальных пользователей 610, уникальных фильмов 9724."
   ]
  },
  {
   "cell_type": "markdown",
   "metadata": {},
   "source": [
    "---"
   ]
  },
  {
   "cell_type": "markdown",
   "metadata": {},
   "source": [
    "### Теперь поработаем над тэгами и жанрами."
   ]
  },
  {
   "cell_type": "markdown",
   "metadata": {},
   "source": [
    "Нам потребуются модули: "
   ]
  },
  {
   "cell_type": "markdown",
   "metadata": {},
   "source": [
    "**Важно:** В первом варианте домашнего задания использовал две модели (обучал отдельно для тэгов и жанров), теперь модели (модули) общие и для тэгов и жанров."
   ]
  },
  {
   "cell_type": "markdown",
   "metadata": {},
   "source": [
    "[Разница между .fit, .fit_transform() и ... transform()](https://stackoverflow.com/questions/23838056/what-is-the-difference-between-transform-and-fit-transform-in-sklearn)  \n",
    "Мы знаем или не знаем, что хотим предсказать. Используем разное."
   ]
  },
  {
   "cell_type": "code",
   "execution_count": 34,
   "metadata": {},
   "outputs": [],
   "source": [
    "from sklearn.feature_extraction.text import TfidfTransformer, CountVectorizer"
   ]
  },
  {
   "cell_type": "markdown",
   "metadata": {},
   "source": [
    "#### **Применим общую модель к тэгам и жанрам:**"
   ]
  },
  {
   "cell_type": "code",
   "execution_count": 35,
   "metadata": {},
   "outputs": [],
   "source": [
    "cvect = CountVectorizer()\n",
    "ttrans = TfidfTransformer()"
   ]
  },
  {
   "cell_type": "markdown",
   "metadata": {},
   "source": [
    "###### Работа с тэгами."
   ]
  },
  {
   "cell_type": "markdown",
   "metadata": {},
   "source": [
    "разбиваем многозначные тэги по жанрам, работа с текстом"
   ]
  },
  {
   "cell_type": "code",
   "execution_count": 36,
   "metadata": {},
   "outputs": [],
   "source": [
    "movie_gtags = [change_string(g) for g in tags.tag.values]\n"
   ]
  },
  {
   "cell_type": "markdown",
   "metadata": {},
   "source": [
    "обучаем и создаём данные"
   ]
  },
  {
   "cell_type": "code",
   "execution_count": 37,
   "metadata": {},
   "outputs": [],
   "source": [
    "preproc = cvect.fit_transform(movie_gtags)"
   ]
  },
  {
   "cell_type": "markdown",
   "metadata": {},
   "source": [
    "даём колонкам имена по индексам"
   ]
  },
  {
   "cell_type": "code",
   "execution_count": 38,
   "metadata": {},
   "outputs": [],
   "source": [
    "preproc_df = pd.DataFrame(preproc.toarray(), columns=cvect.get_feature_names())"
   ]
  },
  {
   "cell_type": "markdown",
   "metadata": {},
   "source": [
    "сортировка по популярным тэгам"
   ]
  },
  {
   "cell_type": "code",
   "execution_count": 39,
   "metadata": {},
   "outputs": [],
   "source": [
    "popular_tags = preproc_df.sum().sort_values(ascending=False)[preproc_df.sum().sort_values(ascending=False) > 5].index"
   ]
  },
  {
   "cell_type": "markdown",
   "metadata": {},
   "source": [
    "обучаем частоте слов и обратной частоте документа"
   ]
  },
  {
   "cell_type": "code",
   "execution_count": 40,
   "metadata": {},
   "outputs": [],
   "source": [
    "preproc = ttrans.fit_transform(preproc)"
   ]
  },
  {
   "cell_type": "markdown",
   "metadata": {},
   "source": [
    "даём колонкам имена по индексам"
   ]
  },
  {
   "cell_type": "code",
   "execution_count": 41,
   "metadata": {},
   "outputs": [],
   "source": [
    "movie_tags = pd.DataFrame(preproc.toarray(), columns=cvect.get_feature_names())"
   ]
  },
  {
   "cell_type": "markdown",
   "metadata": {},
   "source": [
    "оставляем одну колонку"
   ]
  },
  {
   "cell_type": "code",
   "execution_count": 42,
   "metadata": {},
   "outputs": [],
   "source": [
    "movie_tags = movie_tags[popular_tags]"
   ]
  },
  {
   "cell_type": "markdown",
   "metadata": {},
   "source": [
    "добавляем слева колонку                   "
   ]
  },
  {
   "cell_type": "code",
   "execution_count": 43,
   "metadata": {},
   "outputs": [],
   "source": [
    "movie_tags = pd.merge(movies[['movieId']], movie_tags, how='left', left_index=True, right_index=True)"
   ]
  },
  {
   "cell_type": "markdown",
   "metadata": {},
   "source": [
    "вводим её в качестве индекса                   "
   ]
  },
  {
   "cell_type": "code",
   "execution_count": 44,
   "metadata": {},
   "outputs": [],
   "source": [
    "movie_tags.index = movie_tags.movieId"
   ]
  },
  {
   "cell_type": "markdown",
   "metadata": {},
   "source": [
    "и удаляем её как колонку                    "
   ]
  },
  {
   "cell_type": "code",
   "execution_count": 45,
   "metadata": {},
   "outputs": [],
   "source": [
    "movie_tags.drop(columns=['movieId'], inplace=True)"
   ]
  },
  {
   "cell_type": "markdown",
   "metadata": {},
   "source": [
    "заполняем пропуски нулями"
   ]
  },
  {
   "cell_type": "code",
   "execution_count": 46,
   "metadata": {},
   "outputs": [],
   "source": [
    "movie_tags.fillna(0.0, inplace=True)"
   ]
  },
  {
   "cell_type": "markdown",
   "metadata": {},
   "source": [
    "выводим полученный датасет                "
   ]
  },
  {
   "cell_type": "code",
   "execution_count": 47,
   "metadata": {},
   "outputs": [
    {
     "data": {
      "text/html": [
       "<div>\n",
       "<style scoped>\n",
       "    .dataframe tbody tr th:only-of-type {\n",
       "        vertical-align: middle;\n",
       "    }\n",
       "\n",
       "    .dataframe tbody tr th {\n",
       "        vertical-align: top;\n",
       "    }\n",
       "\n",
       "    .dataframe thead th {\n",
       "        text-align: right;\n",
       "    }\n",
       "</style>\n",
       "<table border=\"1\" class=\"dataframe\">\n",
       "  <thead>\n",
       "    <tr style=\"text-align: right;\">\n",
       "      <th></th>\n",
       "      <th>innetflixqueue</th>\n",
       "      <th>atmospheric</th>\n",
       "      <th>thoughtprovoking</th>\n",
       "      <th>funny</th>\n",
       "      <th>scifi</th>\n",
       "      <th>surreal</th>\n",
       "      <th>superhero</th>\n",
       "      <th>disney</th>\n",
       "      <th>quirky</th>\n",
       "      <th>religion</th>\n",
       "      <th>...</th>\n",
       "      <th>wedding</th>\n",
       "      <th>zombies</th>\n",
       "      <th>twins</th>\n",
       "      <th>hitmen</th>\n",
       "      <th>visuallystunning</th>\n",
       "      <th>fantasy</th>\n",
       "      <th>dystopia</th>\n",
       "      <th>gambling</th>\n",
       "      <th>greatsoundtrack</th>\n",
       "      <th>gothic</th>\n",
       "    </tr>\n",
       "    <tr>\n",
       "      <th>movieId</th>\n",
       "      <th></th>\n",
       "      <th></th>\n",
       "      <th></th>\n",
       "      <th></th>\n",
       "      <th></th>\n",
       "      <th></th>\n",
       "      <th></th>\n",
       "      <th></th>\n",
       "      <th></th>\n",
       "      <th></th>\n",
       "      <th></th>\n",
       "      <th></th>\n",
       "      <th></th>\n",
       "      <th></th>\n",
       "      <th></th>\n",
       "      <th></th>\n",
       "      <th></th>\n",
       "      <th></th>\n",
       "      <th></th>\n",
       "      <th></th>\n",
       "      <th></th>\n",
       "    </tr>\n",
       "  </thead>\n",
       "  <tbody>\n",
       "    <tr>\n",
       "      <th>1</th>\n",
       "      <td>0.0</td>\n",
       "      <td>0.0</td>\n",
       "      <td>0.0</td>\n",
       "      <td>1.0</td>\n",
       "      <td>0.0</td>\n",
       "      <td>0.0</td>\n",
       "      <td>0.0</td>\n",
       "      <td>0.0</td>\n",
       "      <td>0.0</td>\n",
       "      <td>0.0</td>\n",
       "      <td>...</td>\n",
       "      <td>0.0</td>\n",
       "      <td>0.0</td>\n",
       "      <td>0.0</td>\n",
       "      <td>0.0</td>\n",
       "      <td>0.0</td>\n",
       "      <td>0.0</td>\n",
       "      <td>0.0</td>\n",
       "      <td>0.0</td>\n",
       "      <td>0.0</td>\n",
       "      <td>0.0</td>\n",
       "    </tr>\n",
       "    <tr>\n",
       "      <th>2</th>\n",
       "      <td>0.0</td>\n",
       "      <td>0.0</td>\n",
       "      <td>0.0</td>\n",
       "      <td>0.0</td>\n",
       "      <td>0.0</td>\n",
       "      <td>0.0</td>\n",
       "      <td>0.0</td>\n",
       "      <td>0.0</td>\n",
       "      <td>0.0</td>\n",
       "      <td>0.0</td>\n",
       "      <td>...</td>\n",
       "      <td>0.0</td>\n",
       "      <td>0.0</td>\n",
       "      <td>0.0</td>\n",
       "      <td>0.0</td>\n",
       "      <td>0.0</td>\n",
       "      <td>0.0</td>\n",
       "      <td>0.0</td>\n",
       "      <td>0.0</td>\n",
       "      <td>0.0</td>\n",
       "      <td>0.0</td>\n",
       "    </tr>\n",
       "    <tr>\n",
       "      <th>3</th>\n",
       "      <td>0.0</td>\n",
       "      <td>0.0</td>\n",
       "      <td>0.0</td>\n",
       "      <td>0.0</td>\n",
       "      <td>0.0</td>\n",
       "      <td>0.0</td>\n",
       "      <td>0.0</td>\n",
       "      <td>0.0</td>\n",
       "      <td>0.0</td>\n",
       "      <td>0.0</td>\n",
       "      <td>...</td>\n",
       "      <td>0.0</td>\n",
       "      <td>0.0</td>\n",
       "      <td>0.0</td>\n",
       "      <td>0.0</td>\n",
       "      <td>0.0</td>\n",
       "      <td>0.0</td>\n",
       "      <td>0.0</td>\n",
       "      <td>0.0</td>\n",
       "      <td>0.0</td>\n",
       "      <td>0.0</td>\n",
       "    </tr>\n",
       "    <tr>\n",
       "      <th>4</th>\n",
       "      <td>0.0</td>\n",
       "      <td>0.0</td>\n",
       "      <td>0.0</td>\n",
       "      <td>0.0</td>\n",
       "      <td>0.0</td>\n",
       "      <td>0.0</td>\n",
       "      <td>0.0</td>\n",
       "      <td>0.0</td>\n",
       "      <td>0.0</td>\n",
       "      <td>0.0</td>\n",
       "      <td>...</td>\n",
       "      <td>0.0</td>\n",
       "      <td>0.0</td>\n",
       "      <td>0.0</td>\n",
       "      <td>0.0</td>\n",
       "      <td>0.0</td>\n",
       "      <td>0.0</td>\n",
       "      <td>0.0</td>\n",
       "      <td>0.0</td>\n",
       "      <td>0.0</td>\n",
       "      <td>0.0</td>\n",
       "    </tr>\n",
       "    <tr>\n",
       "      <th>5</th>\n",
       "      <td>0.0</td>\n",
       "      <td>0.0</td>\n",
       "      <td>0.0</td>\n",
       "      <td>0.0</td>\n",
       "      <td>0.0</td>\n",
       "      <td>0.0</td>\n",
       "      <td>0.0</td>\n",
       "      <td>0.0</td>\n",
       "      <td>0.0</td>\n",
       "      <td>0.0</td>\n",
       "      <td>...</td>\n",
       "      <td>0.0</td>\n",
       "      <td>0.0</td>\n",
       "      <td>0.0</td>\n",
       "      <td>0.0</td>\n",
       "      <td>0.0</td>\n",
       "      <td>0.0</td>\n",
       "      <td>0.0</td>\n",
       "      <td>0.0</td>\n",
       "      <td>0.0</td>\n",
       "      <td>0.0</td>\n",
       "    </tr>\n",
       "  </tbody>\n",
       "</table>\n",
       "<p>5 rows × 137 columns</p>\n",
       "</div>"
      ],
      "text/plain": [
       "         innetflixqueue  atmospheric  thoughtprovoking  funny  scifi  surreal  \\\n",
       "movieId                                                                         \n",
       "1                   0.0          0.0               0.0    1.0    0.0      0.0   \n",
       "2                   0.0          0.0               0.0    0.0    0.0      0.0   \n",
       "3                   0.0          0.0               0.0    0.0    0.0      0.0   \n",
       "4                   0.0          0.0               0.0    0.0    0.0      0.0   \n",
       "5                   0.0          0.0               0.0    0.0    0.0      0.0   \n",
       "\n",
       "         superhero  disney  quirky  religion  ...  wedding  zombies  twins  \\\n",
       "movieId                                       ...                            \n",
       "1              0.0     0.0     0.0       0.0  ...      0.0      0.0    0.0   \n",
       "2              0.0     0.0     0.0       0.0  ...      0.0      0.0    0.0   \n",
       "3              0.0     0.0     0.0       0.0  ...      0.0      0.0    0.0   \n",
       "4              0.0     0.0     0.0       0.0  ...      0.0      0.0    0.0   \n",
       "5              0.0     0.0     0.0       0.0  ...      0.0      0.0    0.0   \n",
       "\n",
       "         hitmen  visuallystunning  fantasy  dystopia  gambling  \\\n",
       "movieId                                                          \n",
       "1           0.0               0.0      0.0       0.0       0.0   \n",
       "2           0.0               0.0      0.0       0.0       0.0   \n",
       "3           0.0               0.0      0.0       0.0       0.0   \n",
       "4           0.0               0.0      0.0       0.0       0.0   \n",
       "5           0.0               0.0      0.0       0.0       0.0   \n",
       "\n",
       "         greatsoundtrack  gothic  \n",
       "movieId                           \n",
       "1                    0.0     0.0  \n",
       "2                    0.0     0.0  \n",
       "3                    0.0     0.0  \n",
       "4                    0.0     0.0  \n",
       "5                    0.0     0.0  \n",
       "\n",
       "[5 rows x 137 columns]"
      ]
     },
     "execution_count": 47,
     "metadata": {},
     "output_type": "execute_result"
    }
   ],
   "source": [
    "movie_tags.head()"
   ]
  },
  {
   "cell_type": "markdown",
   "metadata": {},
   "source": [
    "###### Работа с жанрами по той же модели."
   ]
  },
  {
   "cell_type": "code",
   "execution_count": 48,
   "metadata": {},
   "outputs": [],
   "source": [
    "mg = movies[['movieId', 'genres']]"
   ]
  },
  {
   "cell_type": "code",
   "execution_count": 49,
   "metadata": {},
   "outputs": [],
   "source": [
    "movie_genres = [change_string(g) for g in mg.genres.values]\n"
   ]
  },
  {
   "cell_type": "code",
   "execution_count": 50,
   "metadata": {},
   "outputs": [],
   "source": [
    "preproc = cvect.fit_transform(movie_genres)\n",
    "preproc = ttrans.fit_transform(preproc)"
   ]
  },
  {
   "cell_type": "code",
   "execution_count": 51,
   "metadata": {},
   "outputs": [],
   "source": [
    "movie_genres = pd.DataFrame(preproc.toarray(), columns=cvect.get_feature_names())"
   ]
  },
  {
   "cell_type": "code",
   "execution_count": 52,
   "metadata": {},
   "outputs": [
    {
     "data": {
      "text/html": [
       "<div>\n",
       "<style scoped>\n",
       "    .dataframe tbody tr th:only-of-type {\n",
       "        vertical-align: middle;\n",
       "    }\n",
       "\n",
       "    .dataframe tbody tr th {\n",
       "        vertical-align: top;\n",
       "    }\n",
       "\n",
       "    .dataframe thead th {\n",
       "        text-align: right;\n",
       "    }\n",
       "</style>\n",
       "<table border=\"1\" class=\"dataframe\">\n",
       "  <thead>\n",
       "    <tr style=\"text-align: right;\">\n",
       "      <th></th>\n",
       "      <th>action</th>\n",
       "      <th>adventure</th>\n",
       "      <th>animation</th>\n",
       "      <th>children</th>\n",
       "      <th>comedy</th>\n",
       "      <th>crime</th>\n",
       "      <th>documentary</th>\n",
       "      <th>drama</th>\n",
       "      <th>fantasy</th>\n",
       "      <th>filmnoir</th>\n",
       "      <th>horror</th>\n",
       "      <th>imax</th>\n",
       "      <th>musical</th>\n",
       "      <th>mystery</th>\n",
       "      <th>nogenreslisted</th>\n",
       "      <th>romance</th>\n",
       "      <th>scifi</th>\n",
       "      <th>thriller</th>\n",
       "      <th>war</th>\n",
       "      <th>western</th>\n",
       "    </tr>\n",
       "    <tr>\n",
       "      <th>movieId</th>\n",
       "      <th></th>\n",
       "      <th></th>\n",
       "      <th></th>\n",
       "      <th></th>\n",
       "      <th></th>\n",
       "      <th></th>\n",
       "      <th></th>\n",
       "      <th></th>\n",
       "      <th></th>\n",
       "      <th></th>\n",
       "      <th></th>\n",
       "      <th></th>\n",
       "      <th></th>\n",
       "      <th></th>\n",
       "      <th></th>\n",
       "      <th></th>\n",
       "      <th></th>\n",
       "      <th></th>\n",
       "      <th></th>\n",
       "      <th></th>\n",
       "    </tr>\n",
       "  </thead>\n",
       "  <tbody>\n",
       "    <tr>\n",
       "      <th>1</th>\n",
       "      <td>0.0</td>\n",
       "      <td>0.416846</td>\n",
       "      <td>0.516225</td>\n",
       "      <td>0.504845</td>\n",
       "      <td>0.267586</td>\n",
       "      <td>0.0</td>\n",
       "      <td>0.0</td>\n",
       "      <td>0.000000</td>\n",
       "      <td>0.482990</td>\n",
       "      <td>0.0</td>\n",
       "      <td>0.0</td>\n",
       "      <td>0.0</td>\n",
       "      <td>0.0</td>\n",
       "      <td>0.0</td>\n",
       "      <td>0.0</td>\n",
       "      <td>0.000000</td>\n",
       "      <td>0.0</td>\n",
       "      <td>0.0</td>\n",
       "      <td>0.0</td>\n",
       "      <td>0.0</td>\n",
       "    </tr>\n",
       "    <tr>\n",
       "      <th>2</th>\n",
       "      <td>0.0</td>\n",
       "      <td>0.512361</td>\n",
       "      <td>0.000000</td>\n",
       "      <td>0.620525</td>\n",
       "      <td>0.000000</td>\n",
       "      <td>0.0</td>\n",
       "      <td>0.0</td>\n",
       "      <td>0.000000</td>\n",
       "      <td>0.593662</td>\n",
       "      <td>0.0</td>\n",
       "      <td>0.0</td>\n",
       "      <td>0.0</td>\n",
       "      <td>0.0</td>\n",
       "      <td>0.0</td>\n",
       "      <td>0.0</td>\n",
       "      <td>0.000000</td>\n",
       "      <td>0.0</td>\n",
       "      <td>0.0</td>\n",
       "      <td>0.0</td>\n",
       "      <td>0.0</td>\n",
       "    </tr>\n",
       "    <tr>\n",
       "      <th>3</th>\n",
       "      <td>0.0</td>\n",
       "      <td>0.000000</td>\n",
       "      <td>0.000000</td>\n",
       "      <td>0.000000</td>\n",
       "      <td>0.570915</td>\n",
       "      <td>0.0</td>\n",
       "      <td>0.0</td>\n",
       "      <td>0.000000</td>\n",
       "      <td>0.000000</td>\n",
       "      <td>0.0</td>\n",
       "      <td>0.0</td>\n",
       "      <td>0.0</td>\n",
       "      <td>0.0</td>\n",
       "      <td>0.0</td>\n",
       "      <td>0.0</td>\n",
       "      <td>0.821009</td>\n",
       "      <td>0.0</td>\n",
       "      <td>0.0</td>\n",
       "      <td>0.0</td>\n",
       "      <td>0.0</td>\n",
       "    </tr>\n",
       "    <tr>\n",
       "      <th>4</th>\n",
       "      <td>0.0</td>\n",
       "      <td>0.000000</td>\n",
       "      <td>0.000000</td>\n",
       "      <td>0.000000</td>\n",
       "      <td>0.505015</td>\n",
       "      <td>0.0</td>\n",
       "      <td>0.0</td>\n",
       "      <td>0.466405</td>\n",
       "      <td>0.000000</td>\n",
       "      <td>0.0</td>\n",
       "      <td>0.0</td>\n",
       "      <td>0.0</td>\n",
       "      <td>0.0</td>\n",
       "      <td>0.0</td>\n",
       "      <td>0.0</td>\n",
       "      <td>0.726241</td>\n",
       "      <td>0.0</td>\n",
       "      <td>0.0</td>\n",
       "      <td>0.0</td>\n",
       "      <td>0.0</td>\n",
       "    </tr>\n",
       "    <tr>\n",
       "      <th>5</th>\n",
       "      <td>0.0</td>\n",
       "      <td>0.000000</td>\n",
       "      <td>0.000000</td>\n",
       "      <td>0.000000</td>\n",
       "      <td>1.000000</td>\n",
       "      <td>0.0</td>\n",
       "      <td>0.0</td>\n",
       "      <td>0.000000</td>\n",
       "      <td>0.000000</td>\n",
       "      <td>0.0</td>\n",
       "      <td>0.0</td>\n",
       "      <td>0.0</td>\n",
       "      <td>0.0</td>\n",
       "      <td>0.0</td>\n",
       "      <td>0.0</td>\n",
       "      <td>0.000000</td>\n",
       "      <td>0.0</td>\n",
       "      <td>0.0</td>\n",
       "      <td>0.0</td>\n",
       "      <td>0.0</td>\n",
       "    </tr>\n",
       "  </tbody>\n",
       "</table>\n",
       "</div>"
      ],
      "text/plain": [
       "         action  adventure  animation  children    comedy  crime  documentary  \\\n",
       "movieId                                                                         \n",
       "1           0.0   0.416846   0.516225  0.504845  0.267586    0.0          0.0   \n",
       "2           0.0   0.512361   0.000000  0.620525  0.000000    0.0          0.0   \n",
       "3           0.0   0.000000   0.000000  0.000000  0.570915    0.0          0.0   \n",
       "4           0.0   0.000000   0.000000  0.000000  0.505015    0.0          0.0   \n",
       "5           0.0   0.000000   0.000000  0.000000  1.000000    0.0          0.0   \n",
       "\n",
       "            drama   fantasy  filmnoir  horror  imax  musical  mystery  \\\n",
       "movieId                                                                 \n",
       "1        0.000000  0.482990       0.0     0.0   0.0      0.0      0.0   \n",
       "2        0.000000  0.593662       0.0     0.0   0.0      0.0      0.0   \n",
       "3        0.000000  0.000000       0.0     0.0   0.0      0.0      0.0   \n",
       "4        0.466405  0.000000       0.0     0.0   0.0      0.0      0.0   \n",
       "5        0.000000  0.000000       0.0     0.0   0.0      0.0      0.0   \n",
       "\n",
       "         nogenreslisted   romance  scifi  thriller  war  western  \n",
       "movieId                                                           \n",
       "1                   0.0  0.000000    0.0       0.0  0.0      0.0  \n",
       "2                   0.0  0.000000    0.0       0.0  0.0      0.0  \n",
       "3                   0.0  0.821009    0.0       0.0  0.0      0.0  \n",
       "4                   0.0  0.726241    0.0       0.0  0.0      0.0  \n",
       "5                   0.0  0.000000    0.0       0.0  0.0      0.0  "
      ]
     },
     "execution_count": 52,
     "metadata": {},
     "output_type": "execute_result"
    }
   ],
   "source": [
    "movie_genres = pd.merge(movies[['movieId']], movie_genres, how='left', left_index=True, right_index=True)\n",
    "movie_genres.index = movie_genres.movieId\n",
    "movie_genres.drop(columns=['movieId'], inplace=True)\n",
    "movie_genres.fillna(0.0, inplace=True)\n",
    "movie_genres.head()"
   ]
  },
  {
   "cell_type": "markdown",
   "metadata": {},
   "source": [
    "---"
   ]
  },
  {
   "cell_type": "markdown",
   "metadata": {},
   "source": [
    "Собираем датасет для моделирования."
   ]
  },
  {
   "cell_type": "code",
   "execution_count": 53,
   "metadata": {},
   "outputs": [
    {
     "data": {
      "text/html": [
       "<div>\n",
       "<style scoped>\n",
       "    .dataframe tbody tr th:only-of-type {\n",
       "        vertical-align: middle;\n",
       "    }\n",
       "\n",
       "    .dataframe tbody tr th {\n",
       "        vertical-align: top;\n",
       "    }\n",
       "\n",
       "    .dataframe thead th {\n",
       "        text-align: right;\n",
       "    }\n",
       "</style>\n",
       "<table border=\"1\" class=\"dataframe\">\n",
       "  <thead>\n",
       "    <tr style=\"text-align: right;\">\n",
       "      <th></th>\n",
       "      <th>userId</th>\n",
       "      <th>movieId</th>\n",
       "      <th>rating</th>\n",
       "      <th>user_median_rating</th>\n",
       "      <th>user_variance_rating</th>\n",
       "      <th>user_min_rating</th>\n",
       "      <th>user_max_rating</th>\n",
       "      <th>user_mean_rating</th>\n",
       "      <th>movie_median_rating</th>\n",
       "      <th>movie_variance_rating</th>\n",
       "      <th>...</th>\n",
       "      <th>wedding</th>\n",
       "      <th>zombies</th>\n",
       "      <th>twins</th>\n",
       "      <th>hitmen</th>\n",
       "      <th>visuallystunning</th>\n",
       "      <th>fantasy_y</th>\n",
       "      <th>dystopia</th>\n",
       "      <th>gambling</th>\n",
       "      <th>greatsoundtrack</th>\n",
       "      <th>gothic</th>\n",
       "    </tr>\n",
       "  </thead>\n",
       "  <tbody>\n",
       "    <tr>\n",
       "      <th>5203</th>\n",
       "      <td>34</td>\n",
       "      <td>1717</td>\n",
       "      <td>3.5</td>\n",
       "      <td>4.0</td>\n",
       "      <td>1.84</td>\n",
       "      <td>0.5</td>\n",
       "      <td>5.0</td>\n",
       "      <td>3.42</td>\n",
       "      <td>3.00</td>\n",
       "      <td>1.00</td>\n",
       "      <td>...</td>\n",
       "      <td>0.0</td>\n",
       "      <td>0.0</td>\n",
       "      <td>0.0</td>\n",
       "      <td>0.0</td>\n",
       "      <td>0.0</td>\n",
       "      <td>0.0</td>\n",
       "      <td>0.0</td>\n",
       "      <td>0.0</td>\n",
       "      <td>0.0</td>\n",
       "      <td>0.0</td>\n",
       "    </tr>\n",
       "    <tr>\n",
       "      <th>3394</th>\n",
       "      <td>21</td>\n",
       "      <td>7570</td>\n",
       "      <td>4.5</td>\n",
       "      <td>3.5</td>\n",
       "      <td>1.01</td>\n",
       "      <td>0.5</td>\n",
       "      <td>5.0</td>\n",
       "      <td>3.26</td>\n",
       "      <td>3.50</td>\n",
       "      <td>0.78</td>\n",
       "      <td>...</td>\n",
       "      <td>0.0</td>\n",
       "      <td>0.0</td>\n",
       "      <td>0.0</td>\n",
       "      <td>0.0</td>\n",
       "      <td>0.0</td>\n",
       "      <td>0.0</td>\n",
       "      <td>0.0</td>\n",
       "      <td>0.0</td>\n",
       "      <td>0.0</td>\n",
       "      <td>0.0</td>\n",
       "    </tr>\n",
       "    <tr>\n",
       "      <th>73909</th>\n",
       "      <td>474</td>\n",
       "      <td>2866</td>\n",
       "      <td>3.5</td>\n",
       "      <td>3.5</td>\n",
       "      <td>0.69</td>\n",
       "      <td>0.5</td>\n",
       "      <td>5.0</td>\n",
       "      <td>3.40</td>\n",
       "      <td>3.50</td>\n",
       "      <td>0.17</td>\n",
       "      <td>...</td>\n",
       "      <td>0.0</td>\n",
       "      <td>0.0</td>\n",
       "      <td>0.0</td>\n",
       "      <td>0.0</td>\n",
       "      <td>0.0</td>\n",
       "      <td>0.0</td>\n",
       "      <td>0.0</td>\n",
       "      <td>0.0</td>\n",
       "      <td>0.0</td>\n",
       "      <td>0.0</td>\n",
       "    </tr>\n",
       "    <tr>\n",
       "      <th>52855</th>\n",
       "      <td>346</td>\n",
       "      <td>7387</td>\n",
       "      <td>4.0</td>\n",
       "      <td>4.0</td>\n",
       "      <td>0.46</td>\n",
       "      <td>1.0</td>\n",
       "      <td>5.0</td>\n",
       "      <td>3.68</td>\n",
       "      <td>4.00</td>\n",
       "      <td>1.01</td>\n",
       "      <td>...</td>\n",
       "      <td>0.0</td>\n",
       "      <td>0.0</td>\n",
       "      <td>0.0</td>\n",
       "      <td>0.0</td>\n",
       "      <td>0.0</td>\n",
       "      <td>0.0</td>\n",
       "      <td>0.0</td>\n",
       "      <td>0.0</td>\n",
       "      <td>0.0</td>\n",
       "      <td>0.0</td>\n",
       "    </tr>\n",
       "    <tr>\n",
       "      <th>714</th>\n",
       "      <td>6</td>\n",
       "      <td>343</td>\n",
       "      <td>3.0</td>\n",
       "      <td>3.0</td>\n",
       "      <td>0.72</td>\n",
       "      <td>1.0</td>\n",
       "      <td>5.0</td>\n",
       "      <td>3.49</td>\n",
       "      <td>3.00</td>\n",
       "      <td>0.80</td>\n",
       "      <td>...</td>\n",
       "      <td>0.0</td>\n",
       "      <td>0.0</td>\n",
       "      <td>0.0</td>\n",
       "      <td>0.0</td>\n",
       "      <td>0.0</td>\n",
       "      <td>0.0</td>\n",
       "      <td>0.0</td>\n",
       "      <td>0.0</td>\n",
       "      <td>0.0</td>\n",
       "      <td>0.0</td>\n",
       "    </tr>\n",
       "    <tr>\n",
       "      <th>21268</th>\n",
       "      <td>140</td>\n",
       "      <td>1693</td>\n",
       "      <td>3.0</td>\n",
       "      <td>3.5</td>\n",
       "      <td>0.65</td>\n",
       "      <td>0.5</td>\n",
       "      <td>5.0</td>\n",
       "      <td>3.50</td>\n",
       "      <td>3.50</td>\n",
       "      <td>0.75</td>\n",
       "      <td>...</td>\n",
       "      <td>0.0</td>\n",
       "      <td>0.0</td>\n",
       "      <td>0.0</td>\n",
       "      <td>0.0</td>\n",
       "      <td>0.0</td>\n",
       "      <td>0.0</td>\n",
       "      <td>0.0</td>\n",
       "      <td>0.0</td>\n",
       "      <td>0.0</td>\n",
       "      <td>0.0</td>\n",
       "    </tr>\n",
       "    <tr>\n",
       "      <th>25282</th>\n",
       "      <td>177</td>\n",
       "      <td>3969</td>\n",
       "      <td>5.0</td>\n",
       "      <td>3.5</td>\n",
       "      <td>0.92</td>\n",
       "      <td>0.5</td>\n",
       "      <td>5.0</td>\n",
       "      <td>3.38</td>\n",
       "      <td>3.75</td>\n",
       "      <td>1.41</td>\n",
       "      <td>...</td>\n",
       "      <td>0.0</td>\n",
       "      <td>0.0</td>\n",
       "      <td>0.0</td>\n",
       "      <td>0.0</td>\n",
       "      <td>0.0</td>\n",
       "      <td>0.0</td>\n",
       "      <td>0.0</td>\n",
       "      <td>0.0</td>\n",
       "      <td>0.0</td>\n",
       "      <td>0.0</td>\n",
       "    </tr>\n",
       "  </tbody>\n",
       "</table>\n",
       "<p>7 rows × 170 columns</p>\n",
       "</div>"
      ],
      "text/plain": [
       "       userId  movieId  rating  user_median_rating  user_variance_rating  \\\n",
       "5203       34     1717     3.5                 4.0                  1.84   \n",
       "3394       21     7570     4.5                 3.5                  1.01   \n",
       "73909     474     2866     3.5                 3.5                  0.69   \n",
       "52855     346     7387     4.0                 4.0                  0.46   \n",
       "714         6      343     3.0                 3.0                  0.72   \n",
       "21268     140     1693     3.0                 3.5                  0.65   \n",
       "25282     177     3969     5.0                 3.5                  0.92   \n",
       "\n",
       "       user_min_rating  user_max_rating  user_mean_rating  \\\n",
       "5203               0.5              5.0              3.42   \n",
       "3394               0.5              5.0              3.26   \n",
       "73909              0.5              5.0              3.40   \n",
       "52855              1.0              5.0              3.68   \n",
       "714                1.0              5.0              3.49   \n",
       "21268              0.5              5.0              3.50   \n",
       "25282              0.5              5.0              3.38   \n",
       "\n",
       "       movie_median_rating  movie_variance_rating  ...  wedding  zombies  \\\n",
       "5203                  3.00                   1.00  ...      0.0      0.0   \n",
       "3394                  3.50                   0.78  ...      0.0      0.0   \n",
       "73909                 3.50                   0.17  ...      0.0      0.0   \n",
       "52855                 4.00                   1.01  ...      0.0      0.0   \n",
       "714                   3.00                   0.80  ...      0.0      0.0   \n",
       "21268                 3.50                   0.75  ...      0.0      0.0   \n",
       "25282                 3.75                   1.41  ...      0.0      0.0   \n",
       "\n",
       "       twins  hitmen  visuallystunning  fantasy_y  dystopia  gambling  \\\n",
       "5203     0.0     0.0               0.0        0.0       0.0       0.0   \n",
       "3394     0.0     0.0               0.0        0.0       0.0       0.0   \n",
       "73909    0.0     0.0               0.0        0.0       0.0       0.0   \n",
       "52855    0.0     0.0               0.0        0.0       0.0       0.0   \n",
       "714      0.0     0.0               0.0        0.0       0.0       0.0   \n",
       "21268    0.0     0.0               0.0        0.0       0.0       0.0   \n",
       "25282    0.0     0.0               0.0        0.0       0.0       0.0   \n",
       "\n",
       "       greatsoundtrack  gothic  \n",
       "5203               0.0     0.0  \n",
       "3394               0.0     0.0  \n",
       "73909              0.0     0.0  \n",
       "52855              0.0     0.0  \n",
       "714                0.0     0.0  \n",
       "21268              0.0     0.0  \n",
       "25282              0.0     0.0  \n",
       "\n",
       "[7 rows x 170 columns]"
      ]
     },
     "execution_count": 53,
     "metadata": {},
     "output_type": "execute_result"
    }
   ],
   "source": [
    "mvs = ratings[['userId', 'movieId', 'rating']]\n",
    "mvs = pd.merge(mvs, umr_users, how='left', left_on='userId', right_index=True)\n",
    "mvs = pd.merge(mvs, umr_films, how='left', left_on='movieId', right_index=True)\n",
    "mvs = pd.merge(mvs, movie_genres, how='left', left_on='movieId', right_index=True)\n",
    "mvs = pd.merge(mvs, movie_tags, how='left', left_on='movieId', right_index=True)\n",
    "mvs.sample(7) "
   ]
  },
  {
   "cell_type": "code",
   "execution_count": 54,
   "metadata": {},
   "outputs": [
    {
     "data": {
      "text/plain": [
       "(100836, 170)"
      ]
     },
     "execution_count": 54,
     "metadata": {},
     "output_type": "execute_result"
    }
   ],
   "source": [
    "mvs.shape"
   ]
  },
  {
   "cell_type": "code",
   "execution_count": 55,
   "metadata": {},
   "outputs": [
    {
     "data": {
      "text/plain": [
       "userId         0\n",
       "creepy         0\n",
       "stylized       0\n",
       "family         0\n",
       "martialarts    0\n",
       "              ..\n",
       "aliens         0\n",
       "dreamlike      0\n",
       "blackcomedy    0\n",
       "highschool     0\n",
       "gothic         0\n",
       "Length: 170, dtype: int64"
      ]
     },
     "execution_count": 55,
     "metadata": {},
     "output_type": "execute_result"
    }
   ],
   "source": [
    "mvs.isna().sum().sort_values()"
   ]
  },
  {
   "cell_type": "code",
   "execution_count": 56,
   "metadata": {},
   "outputs": [
    {
     "data": {
      "text/plain": [
       "False"
      ]
     },
     "execution_count": 56,
     "metadata": {},
     "output_type": "execute_result"
    }
   ],
   "source": [
    "mvs.isnull().any().any()"
   ]
  },
  {
   "cell_type": "markdown",
   "metadata": {},
   "source": [
    "---"
   ]
  },
  {
   "cell_type": "markdown",
   "metadata": {},
   "source": [
    "#### Проведём масштабирование датасета с сохранением названий колонок"
   ]
  },
  {
   "cell_type": "code",
   "execution_count": 57,
   "metadata": {},
   "outputs": [],
   "source": [
    "from sklearn.preprocessing import StandardScaler"
   ]
  },
  {
   "cell_type": "code",
   "execution_count": 58,
   "metadata": {},
   "outputs": [
    {
     "data": {
      "text/html": [
       "<div>\n",
       "<style scoped>\n",
       "    .dataframe tbody tr th:only-of-type {\n",
       "        vertical-align: middle;\n",
       "    }\n",
       "\n",
       "    .dataframe tbody tr th {\n",
       "        vertical-align: top;\n",
       "    }\n",
       "\n",
       "    .dataframe thead th {\n",
       "        text-align: right;\n",
       "    }\n",
       "</style>\n",
       "<table border=\"1\" class=\"dataframe\">\n",
       "  <thead>\n",
       "    <tr style=\"text-align: right;\">\n",
       "      <th></th>\n",
       "      <th>userId</th>\n",
       "      <th>movieId</th>\n",
       "      <th>rating</th>\n",
       "      <th>user_median_rating</th>\n",
       "      <th>user_variance_rating</th>\n",
       "      <th>user_min_rating</th>\n",
       "      <th>user_max_rating</th>\n",
       "      <th>user_mean_rating</th>\n",
       "      <th>movie_median_rating</th>\n",
       "      <th>movie_variance_rating</th>\n",
       "      <th>...</th>\n",
       "      <th>wedding</th>\n",
       "      <th>zombies</th>\n",
       "      <th>twins</th>\n",
       "      <th>hitmen</th>\n",
       "      <th>visuallystunning</th>\n",
       "      <th>fantasy_y</th>\n",
       "      <th>dystopia</th>\n",
       "      <th>gambling</th>\n",
       "      <th>greatsoundtrack</th>\n",
       "      <th>gothic</th>\n",
       "    </tr>\n",
       "  </thead>\n",
       "  <tbody>\n",
       "    <tr>\n",
       "      <th>0</th>\n",
       "      <td>-1.780374</td>\n",
       "      <td>-0.546970</td>\n",
       "      <td>0.478112</td>\n",
       "      <td>2.568746</td>\n",
       "      <td>-0.583237</td>\n",
       "      <td>0.145061</td>\n",
       "      <td>0.182856</td>\n",
       "      <td>1.880009</td>\n",
       "      <td>0.696738</td>\n",
       "      <td>-0.275264</td>\n",
       "      <td>...</td>\n",
       "      <td>-0.031664</td>\n",
       "      <td>-0.053145</td>\n",
       "      <td>-0.026544</td>\n",
       "      <td>-0.038469</td>\n",
       "      <td>-0.045245</td>\n",
       "      <td>-0.04676</td>\n",
       "      <td>-0.04264</td>\n",
       "      <td>-0.028528</td>\n",
       "      <td>-0.015104</td>\n",
       "      <td>-0.050549</td>\n",
       "    </tr>\n",
       "    <tr>\n",
       "      <th>1</th>\n",
       "      <td>-1.780374</td>\n",
       "      <td>-0.546914</td>\n",
       "      <td>0.478112</td>\n",
       "      <td>2.568746</td>\n",
       "      <td>-0.583237</td>\n",
       "      <td>0.145061</td>\n",
       "      <td>0.182856</td>\n",
       "      <td>1.880009</td>\n",
       "      <td>-0.931450</td>\n",
       "      <td>0.657741</td>\n",
       "      <td>...</td>\n",
       "      <td>-0.031664</td>\n",
       "      <td>-0.053145</td>\n",
       "      <td>-0.026544</td>\n",
       "      <td>-0.038469</td>\n",
       "      <td>-0.045245</td>\n",
       "      <td>-0.04676</td>\n",
       "      <td>-0.04264</td>\n",
       "      <td>-0.028528</td>\n",
       "      <td>-0.015104</td>\n",
       "      <td>-0.050549</td>\n",
       "    </tr>\n",
       "    <tr>\n",
       "      <th>2</th>\n",
       "      <td>-1.780374</td>\n",
       "      <td>-0.546830</td>\n",
       "      <td>0.478112</td>\n",
       "      <td>2.568746</td>\n",
       "      <td>-0.583237</td>\n",
       "      <td>0.145061</td>\n",
       "      <td>0.182856</td>\n",
       "      <td>1.880009</td>\n",
       "      <td>0.696738</td>\n",
       "      <td>-0.343533</td>\n",
       "      <td>...</td>\n",
       "      <td>-0.031664</td>\n",
       "      <td>-0.053145</td>\n",
       "      <td>-0.026544</td>\n",
       "      <td>-0.038469</td>\n",
       "      <td>-0.045245</td>\n",
       "      <td>-0.04676</td>\n",
       "      <td>-0.04264</td>\n",
       "      <td>-0.028528</td>\n",
       "      <td>-0.015104</td>\n",
       "      <td>-0.050549</td>\n",
       "    </tr>\n",
       "    <tr>\n",
       "      <th>3</th>\n",
       "      <td>-1.780374</td>\n",
       "      <td>-0.545676</td>\n",
       "      <td>1.437322</td>\n",
       "      <td>2.568746</td>\n",
       "      <td>-0.583237</td>\n",
       "      <td>0.145061</td>\n",
       "      <td>0.182856</td>\n",
       "      <td>1.880009</td>\n",
       "      <td>0.696738</td>\n",
       "      <td>0.066079</td>\n",
       "      <td>...</td>\n",
       "      <td>-0.031664</td>\n",
       "      <td>-0.053145</td>\n",
       "      <td>-0.026544</td>\n",
       "      <td>-0.038469</td>\n",
       "      <td>-0.045245</td>\n",
       "      <td>-0.04676</td>\n",
       "      <td>-0.04264</td>\n",
       "      <td>-0.028528</td>\n",
       "      <td>-0.015104</td>\n",
       "      <td>-0.050549</td>\n",
       "    </tr>\n",
       "    <tr>\n",
       "      <th>4</th>\n",
       "      <td>-1.780374</td>\n",
       "      <td>-0.545591</td>\n",
       "      <td>1.437322</td>\n",
       "      <td>2.568746</td>\n",
       "      <td>-0.583237</td>\n",
       "      <td>0.145061</td>\n",
       "      <td>0.182856</td>\n",
       "      <td>1.880009</td>\n",
       "      <td>1.510833</td>\n",
       "      <td>-0.411801</td>\n",
       "      <td>...</td>\n",
       "      <td>-0.031664</td>\n",
       "      <td>-0.053145</td>\n",
       "      <td>-0.026544</td>\n",
       "      <td>-0.038469</td>\n",
       "      <td>-0.045245</td>\n",
       "      <td>-0.04676</td>\n",
       "      <td>-0.04264</td>\n",
       "      <td>-0.028528</td>\n",
       "      <td>-0.015104</td>\n",
       "      <td>-0.050549</td>\n",
       "    </tr>\n",
       "  </tbody>\n",
       "</table>\n",
       "<p>5 rows × 170 columns</p>\n",
       "</div>"
      ],
      "text/plain": [
       "     userId   movieId    rating  user_median_rating  user_variance_rating  \\\n",
       "0 -1.780374 -0.546970  0.478112            2.568746             -0.583237   \n",
       "1 -1.780374 -0.546914  0.478112            2.568746             -0.583237   \n",
       "2 -1.780374 -0.546830  0.478112            2.568746             -0.583237   \n",
       "3 -1.780374 -0.545676  1.437322            2.568746             -0.583237   \n",
       "4 -1.780374 -0.545591  1.437322            2.568746             -0.583237   \n",
       "\n",
       "   user_min_rating  user_max_rating  user_mean_rating  movie_median_rating  \\\n",
       "0         0.145061         0.182856          1.880009             0.696738   \n",
       "1         0.145061         0.182856          1.880009            -0.931450   \n",
       "2         0.145061         0.182856          1.880009             0.696738   \n",
       "3         0.145061         0.182856          1.880009             0.696738   \n",
       "4         0.145061         0.182856          1.880009             1.510833   \n",
       "\n",
       "   movie_variance_rating  ...   wedding   zombies     twins    hitmen  \\\n",
       "0              -0.275264  ... -0.031664 -0.053145 -0.026544 -0.038469   \n",
       "1               0.657741  ... -0.031664 -0.053145 -0.026544 -0.038469   \n",
       "2              -0.343533  ... -0.031664 -0.053145 -0.026544 -0.038469   \n",
       "3               0.066079  ... -0.031664 -0.053145 -0.026544 -0.038469   \n",
       "4              -0.411801  ... -0.031664 -0.053145 -0.026544 -0.038469   \n",
       "\n",
       "   visuallystunning  fantasy_y  dystopia  gambling  greatsoundtrack    gothic  \n",
       "0         -0.045245   -0.04676  -0.04264 -0.028528        -0.015104 -0.050549  \n",
       "1         -0.045245   -0.04676  -0.04264 -0.028528        -0.015104 -0.050549  \n",
       "2         -0.045245   -0.04676  -0.04264 -0.028528        -0.015104 -0.050549  \n",
       "3         -0.045245   -0.04676  -0.04264 -0.028528        -0.015104 -0.050549  \n",
       "4         -0.045245   -0.04676  -0.04264 -0.028528        -0.015104 -0.050549  \n",
       "\n",
       "[5 rows x 170 columns]"
      ]
     },
     "execution_count": 58,
     "metadata": {},
     "output_type": "execute_result"
    }
   ],
   "source": [
    "ss = StandardScaler()\n",
    "mvs_norm = pd.DataFrame(ss.fit_transform(mvs), columns=mvs.columns)\n",
    "mvs_norm.head()"
   ]
  },
  {
   "cell_type": "code",
   "execution_count": 80,
   "metadata": {},
   "outputs": [
    {
     "data": {
      "text/html": [
       "<div>\n",
       "<style scoped>\n",
       "    .dataframe tbody tr th:only-of-type {\n",
       "        vertical-align: middle;\n",
       "    }\n",
       "\n",
       "    .dataframe tbody tr th {\n",
       "        vertical-align: top;\n",
       "    }\n",
       "\n",
       "    .dataframe thead th {\n",
       "        text-align: right;\n",
       "    }\n",
       "</style>\n",
       "<table border=\"1\" class=\"dataframe\">\n",
       "  <thead>\n",
       "    <tr style=\"text-align: right;\">\n",
       "      <th></th>\n",
       "      <th>userId</th>\n",
       "      <th>movieId</th>\n",
       "      <th>rating</th>\n",
       "      <th>user_median_rating</th>\n",
       "      <th>user_variance_rating</th>\n",
       "      <th>user_min_rating</th>\n",
       "      <th>user_max_rating</th>\n",
       "      <th>user_mean_rating</th>\n",
       "      <th>movie_median_rating</th>\n",
       "      <th>movie_variance_rating</th>\n",
       "      <th>...</th>\n",
       "      <th>wedding</th>\n",
       "      <th>zombies</th>\n",
       "      <th>twins</th>\n",
       "      <th>hitmen</th>\n",
       "      <th>visuallystunning</th>\n",
       "      <th>fantasy_y</th>\n",
       "      <th>dystopia</th>\n",
       "      <th>gambling</th>\n",
       "      <th>greatsoundtrack</th>\n",
       "      <th>gothic</th>\n",
       "    </tr>\n",
       "  </thead>\n",
       "  <tbody>\n",
       "    <tr>\n",
       "      <th>89963</th>\n",
       "      <td>1.412090</td>\n",
       "      <td>-0.535178</td>\n",
       "      <td>0.478112</td>\n",
       "      <td>0.722867</td>\n",
       "      <td>0.831777</td>\n",
       "      <td>0.145061</td>\n",
       "      <td>0.182856</td>\n",
       "      <td>1.316860</td>\n",
       "      <td>-0.931450</td>\n",
       "      <td>0.134348</td>\n",
       "      <td>...</td>\n",
       "      <td>-0.031664</td>\n",
       "      <td>-0.053145</td>\n",
       "      <td>-0.026544</td>\n",
       "      <td>-0.038469</td>\n",
       "      <td>-0.045245</td>\n",
       "      <td>-0.04676</td>\n",
       "      <td>-0.04264</td>\n",
       "      <td>-0.028528</td>\n",
       "      <td>-0.015104</td>\n",
       "      <td>-0.050549</td>\n",
       "    </tr>\n",
       "    <tr>\n",
       "      <th>3263</th>\n",
       "      <td>-1.670855</td>\n",
       "      <td>-0.512381</td>\n",
       "      <td>-0.960704</td>\n",
       "      <td>-0.200073</td>\n",
       "      <td>0.319444</td>\n",
       "      <td>-0.662724</td>\n",
       "      <td>0.182856</td>\n",
       "      <td>-0.524205</td>\n",
       "      <td>0.696738</td>\n",
       "      <td>0.930816</td>\n",
       "      <td>...</td>\n",
       "      <td>-0.031664</td>\n",
       "      <td>-0.053145</td>\n",
       "      <td>-0.026544</td>\n",
       "      <td>-0.038469</td>\n",
       "      <td>-0.045245</td>\n",
       "      <td>-0.04676</td>\n",
       "      <td>-0.04264</td>\n",
       "      <td>-0.028528</td>\n",
       "      <td>-0.015104</td>\n",
       "      <td>-0.050549</td>\n",
       "    </tr>\n",
       "    <tr>\n",
       "      <th>10731</th>\n",
       "      <td>-1.413487</td>\n",
       "      <td>-0.483026</td>\n",
       "      <td>-0.960704</td>\n",
       "      <td>-0.661543</td>\n",
       "      <td>-0.192888</td>\n",
       "      <td>-0.662724</td>\n",
       "      <td>0.182856</td>\n",
       "      <td>-0.589183</td>\n",
       "      <td>-0.117356</td>\n",
       "      <td>-0.024946</td>\n",
       "      <td>...</td>\n",
       "      <td>-0.031664</td>\n",
       "      <td>-0.053145</td>\n",
       "      <td>-0.026544</td>\n",
       "      <td>-0.038469</td>\n",
       "      <td>-0.045245</td>\n",
       "      <td>-0.04676</td>\n",
       "      <td>-0.04264</td>\n",
       "      <td>-0.028528</td>\n",
       "      <td>-0.015104</td>\n",
       "      <td>-0.050549</td>\n",
       "    </tr>\n",
       "    <tr>\n",
       "      <th>48886</th>\n",
       "      <td>-0.049982</td>\n",
       "      <td>-0.353645</td>\n",
       "      <td>0.478112</td>\n",
       "      <td>0.722867</td>\n",
       "      <td>0.270651</td>\n",
       "      <td>1.760630</td>\n",
       "      <td>0.182856</td>\n",
       "      <td>0.493796</td>\n",
       "      <td>0.696738</td>\n",
       "      <td>-0.343533</td>\n",
       "      <td>...</td>\n",
       "      <td>-0.031664</td>\n",
       "      <td>-0.053145</td>\n",
       "      <td>-0.026544</td>\n",
       "      <td>-0.038469</td>\n",
       "      <td>-0.045245</td>\n",
       "      <td>-0.04676</td>\n",
       "      <td>-0.04264</td>\n",
       "      <td>-0.028528</td>\n",
       "      <td>-0.015104</td>\n",
       "      <td>-0.050549</td>\n",
       "    </tr>\n",
       "    <tr>\n",
       "      <th>43608</th>\n",
       "      <td>-0.186880</td>\n",
       "      <td>-0.479423</td>\n",
       "      <td>-0.481099</td>\n",
       "      <td>-0.200073</td>\n",
       "      <td>-0.070904</td>\n",
       "      <td>-0.662724</td>\n",
       "      <td>0.182856</td>\n",
       "      <td>-0.437566</td>\n",
       "      <td>0.696738</td>\n",
       "      <td>-0.571095</td>\n",
       "      <td>...</td>\n",
       "      <td>-0.031664</td>\n",
       "      <td>-0.053145</td>\n",
       "      <td>-0.026544</td>\n",
       "      <td>-0.038469</td>\n",
       "      <td>-0.045245</td>\n",
       "      <td>-0.04676</td>\n",
       "      <td>-0.04264</td>\n",
       "      <td>-0.028528</td>\n",
       "      <td>-0.015104</td>\n",
       "      <td>-0.050549</td>\n",
       "    </tr>\n",
       "  </tbody>\n",
       "</table>\n",
       "<p>5 rows × 170 columns</p>\n",
       "</div>"
      ],
      "text/plain": [
       "         userId   movieId    rating  user_median_rating  user_variance_rating  \\\n",
       "89963  1.412090 -0.535178  0.478112            0.722867              0.831777   \n",
       "3263  -1.670855 -0.512381 -0.960704           -0.200073              0.319444   \n",
       "10731 -1.413487 -0.483026 -0.960704           -0.661543             -0.192888   \n",
       "48886 -0.049982 -0.353645  0.478112            0.722867              0.270651   \n",
       "43608 -0.186880 -0.479423 -0.481099           -0.200073             -0.070904   \n",
       "\n",
       "       user_min_rating  user_max_rating  user_mean_rating  \\\n",
       "89963         0.145061         0.182856          1.316860   \n",
       "3263         -0.662724         0.182856         -0.524205   \n",
       "10731        -0.662724         0.182856         -0.589183   \n",
       "48886         1.760630         0.182856          0.493796   \n",
       "43608        -0.662724         0.182856         -0.437566   \n",
       "\n",
       "       movie_median_rating  movie_variance_rating  ...   wedding   zombies  \\\n",
       "89963            -0.931450               0.134348  ... -0.031664 -0.053145   \n",
       "3263              0.696738               0.930816  ... -0.031664 -0.053145   \n",
       "10731            -0.117356              -0.024946  ... -0.031664 -0.053145   \n",
       "48886             0.696738              -0.343533  ... -0.031664 -0.053145   \n",
       "43608             0.696738              -0.571095  ... -0.031664 -0.053145   \n",
       "\n",
       "          twins    hitmen  visuallystunning  fantasy_y  dystopia  gambling  \\\n",
       "89963 -0.026544 -0.038469         -0.045245   -0.04676  -0.04264 -0.028528   \n",
       "3263  -0.026544 -0.038469         -0.045245   -0.04676  -0.04264 -0.028528   \n",
       "10731 -0.026544 -0.038469         -0.045245   -0.04676  -0.04264 -0.028528   \n",
       "48886 -0.026544 -0.038469         -0.045245   -0.04676  -0.04264 -0.028528   \n",
       "43608 -0.026544 -0.038469         -0.045245   -0.04676  -0.04264 -0.028528   \n",
       "\n",
       "       greatsoundtrack    gothic  \n",
       "89963        -0.015104 -0.050549  \n",
       "3263         -0.015104 -0.050549  \n",
       "10731        -0.015104 -0.050549  \n",
       "48886        -0.015104 -0.050549  \n",
       "43608        -0.015104 -0.050549  \n",
       "\n",
       "[5 rows x 170 columns]"
      ]
     },
     "execution_count": 80,
     "metadata": {},
     "output_type": "execute_result"
    }
   ],
   "source": [
    "mvs_norm.sample(5)"
   ]
  },
  {
   "cell_type": "markdown",
   "metadata": {},
   "source": [
    "---"
   ]
  },
  {
   "cell_type": "markdown",
   "metadata": {},
   "source": [
    "### На подготовленном датасете проведём train_test_split."
   ]
  },
  {
   "cell_type": "code",
   "execution_count": 59,
   "metadata": {},
   "outputs": [
    {
     "data": {
      "text/plain": [
       "(100836, 170)"
      ]
     },
     "execution_count": 59,
     "metadata": {},
     "output_type": "execute_result"
    }
   ],
   "source": [
    "mvs_norm.shape #С чем имеем дело, размер"
   ]
  },
  {
   "cell_type": "code",
   "execution_count": 60,
   "metadata": {},
   "outputs": [],
   "source": [
    "from sklearn.model_selection import train_test_split"
   ]
  },
  {
   "cell_type": "code",
   "execution_count": 61,
   "metadata": {},
   "outputs": [],
   "source": [
    "y = mvs_norm['rating']\n",
    "x = mvs_norm.drop(columns=['rating'])"
   ]
  },
  {
   "cell_type": "code",
   "execution_count": 62,
   "metadata": {},
   "outputs": [],
   "source": [
    "x_train, x_test, y_train, y_test = train_test_split(x, y, test_size=0.2)"
   ]
  },
  {
   "cell_type": "markdown",
   "metadata": {},
   "source": [
    "### Возьмём регрессию и обучим, посчитаем RMSE на тестовой выборке:"
   ]
  },
  {
   "cell_type": "markdown",
   "metadata": {},
   "source": [
    "### [LinearRegression](https://scikit-learn.org/stable/modules/generated/sklearn.linear_model.LinearRegression.html)"
   ]
  },
  {
   "cell_type": "code",
   "execution_count": 63,
   "metadata": {},
   "outputs": [],
   "source": [
    "from sklearn.linear_model import LinearRegression\n",
    "from sklearn.metrics import mean_squared_error"
   ]
  },
  {
   "cell_type": "markdown",
   "metadata": {},
   "source": [
    "[sklearn.metrics.mean_squared_error:\n",
    "](https://scikit-learn.org/stable/modules/generated/sklearn.metrics.mean_squared_error.html): squared=False, то возвращает RMSE, иначе (по дефолту) MSE."
   ]
  },
  {
   "cell_type": "code",
   "execution_count": 64,
   "metadata": {},
   "outputs": [
    {
     "name": "stdout",
     "output_type": "stream",
     "text": [
      "RMSE:  0.8791157605612001\n"
     ]
    }
   ],
   "source": [
    "lr = LinearRegression(n_jobs=-1)\n",
    "lr.fit(x_train, y_train)\n",
    "y_pred = lr.predict(x_test)\n",
    "print ('RMSE: ',np.sqrt(mean_squared_error(y_test, y_pred, squared=False)))"
   ]
  },
  {
   "cell_type": "markdown",
   "metadata": {},
   "source": [
    "### [RandomForestRegressor - модель](https://scikit-learn.org/stable/modules/generated/sklearn.ensemble.RandomForestRegressor.html)"
   ]
  },
  {
   "cell_type": "code",
   "execution_count": 65,
   "metadata": {},
   "outputs": [],
   "source": [
    "from sklearn.ensemble import RandomForestRegressor"
   ]
  },
  {
   "cell_type": "markdown",
   "metadata": {},
   "source": [
    "используем пять  фолдов в кросс-валидации cv=5"
   ]
  },
  {
   "cell_type": "code",
   "execution_count": 66,
   "metadata": {},
   "outputs": [],
   "source": [
    "from sklearn.model_selection import RandomizedSearchCV"
   ]
  },
  {
   "cell_type": "code",
   "execution_count": 67,
   "metadata": {},
   "outputs": [
    {
     "data": {
      "text/plain": [
       "RandomForestRegressor(bootstrap=True, ccp_alpha=0.0, criterion='mse',\n",
       "                      max_depth=8, max_features='auto', max_leaf_nodes=None,\n",
       "                      max_samples=None, min_impurity_decrease=0.0,\n",
       "                      min_impurity_split=None, min_samples_leaf=5,\n",
       "                      min_samples_split=6, min_weight_fraction_leaf=0.0,\n",
       "                      n_estimators=8, n_jobs=-1, oob_score=False,\n",
       "                      random_state=8, verbose=0, warm_start=False)"
      ]
     },
     "execution_count": 67,
     "metadata": {},
     "output_type": "execute_result"
    }
   ],
   "source": [
    "params = {   'criterion': ['mse'],\n",
    "             'max_depth': list(range(5, 10, 1)),\n",
    "             'max_features': ['auto', 'sqrt', 'log2'],\n",
    "             'min_samples_leaf': list(range(1, 8, 1)),\n",
    "             'min_samples_split': list(range(2, 8, 1)),\n",
    "             'n_estimators': list(range(5, 10, 1)),\n",
    "             'n_jobs': [-1],\n",
    "             'random_state': [8]}\n",
    "\n",
    "rf_regr = RandomizedSearchCV(RandomForestRegressor(), params, cv=5, n_jobs=-1, n_iter=7, random_state=8)\n",
    "rf_regr =  rf_regr.fit(x_train, y_train).best_estimator_\n",
    "rf_regr"
   ]
  },
  {
   "cell_type": "code",
   "execution_count": 69,
   "metadata": {},
   "outputs": [
    {
     "name": "stdout",
     "output_type": "stream",
     "text": [
      "RMSE: 0.8719943184092788\n"
     ]
    }
   ],
   "source": [
    "print('RMSE:', np.sqrt(mean_squared_error(y_test, rf_regr.predict(x_test), squared=False)))"
   ]
  },
  {
   "cell_type": "markdown",
   "metadata": {},
   "source": [
    "#### Поиграем параметрами"
   ]
  },
  {
   "cell_type": "code",
   "execution_count": 71,
   "metadata": {},
   "outputs": [
    {
     "data": {
      "text/plain": [
       "RandomForestRegressor(bootstrap=True, ccp_alpha=0.0, criterion='mse',\n",
       "                      max_depth=11, max_features='auto', max_leaf_nodes=None,\n",
       "                      max_samples=None, min_impurity_decrease=0.0,\n",
       "                      min_impurity_split=None, min_samples_leaf=7,\n",
       "                      min_samples_split=7, min_weight_fraction_leaf=0.0,\n",
       "                      n_estimators=17, n_jobs=-1, oob_score=False,\n",
       "                      random_state=8, verbose=0, warm_start=False)"
      ]
     },
     "execution_count": 71,
     "metadata": {},
     "output_type": "execute_result"
    }
   ],
   "source": [
    "params = {   'criterion': ['mse'],\n",
    "             'max_depth': list(range(5, 12, 1)),\n",
    "             'max_features': ['auto', 'sqrt', 'log2'],\n",
    "             'min_samples_leaf': list(range(1, 8, 1)),\n",
    "             'min_samples_split': list(range(2, 8, 1)),\n",
    "             'n_estimators': list(range(5, 20, 1)),\n",
    "             'n_jobs': [-1],\n",
    "             'random_state': [8]}\n",
    "\n",
    "rf_regr = RandomizedSearchCV(RandomForestRegressor(), params, cv=5, n_jobs=-1, n_iter=9, random_state=8)\n",
    "rf_regr =  rf_regr.fit(x_train, y_train).best_estimator_\n",
    "rf_regr"
   ]
  },
  {
   "cell_type": "code",
   "execution_count": 72,
   "metadata": {},
   "outputs": [
    {
     "name": "stdout",
     "output_type": "stream",
     "text": [
      "RMSE: 0.8678670051309639\n"
     ]
    }
   ],
   "source": [
    "print('RMSE:', np.sqrt(mean_squared_error(y_test, rf_regr.predict(x_test), squared=False)))"
   ]
  },
  {
   "cell_type": "markdown",
   "metadata": {},
   "source": [
    "Чуть улучшили RMSE."
   ]
  },
  {
   "cell_type": "markdown",
   "metadata": {},
   "source": [
    "##### Предскажем рейтинг по тестовой выборке."
   ]
  },
  {
   "cell_type": "code",
   "execution_count": 75,
   "metadata": {},
   "outputs": [],
   "source": [
    "ratings_pred = rf_regr.predict(x_test)"
   ]
  },
  {
   "cell_type": "code",
   "execution_count": 76,
   "metadata": {},
   "outputs": [
    {
     "data": {
      "text/plain": [
       "array([ 0.99099967,  0.09146114,  0.14475991, ..., -0.57190593,\n",
       "       -0.83842859, -0.84266688])"
      ]
     },
     "execution_count": 76,
     "metadata": {},
     "output_type": "execute_result"
    }
   ],
   "source": [
    "ratings_pred"
   ]
  },
  {
   "cell_type": "markdown",
   "metadata": {},
   "source": [
    "### [Ridge_Regression - модель](https://scikit-learn.org/stable/modules/generated/sklearn.linear_model.ridge_regression.html)"
   ]
  },
  {
   "cell_type": "code",
   "execution_count": 93,
   "metadata": {},
   "outputs": [],
   "source": [
    "from sklearn.linear_model import Ridge"
   ]
  },
  {
   "cell_type": "code",
   "execution_count": 95,
   "metadata": {},
   "outputs": [
    {
     "data": {
      "text/plain": [
       "Ridge(alpha=56.1, copy_X=True, fit_intercept=True, max_iter=5000,\n",
       "      normalize=False, random_state=None, solver='svd', tol=0.01)"
      ]
     },
     "execution_count": 95,
     "metadata": {},
     "output_type": "execute_result"
    }
   ],
   "source": [
    "params = {'alpha':list(np.arange(0.1, 100.0, 0.1)),\n",
    "          'solver':['auto', 'svd', 'cholesky', 'lsqr', 'sparse_cg', 'sag', 'saga'],\n",
    "          'max_iter':[100, 1000, 2000, 5000, 10000],\n",
    "          'tol':[1e-5, 1e-4, 1e-3, 1e-2] # по дефолту 1e-3\n",
    "          }\n",
    "linear_model = RandomizedSearchCV(Ridge(), params, cv=8, random_state=8, n_iter=10)\n",
    "linear_model = linear_model.fit(x_train,y_train).best_estimator_\n",
    "linear_model"
   ]
  },
  {
   "cell_type": "code",
   "execution_count": 96,
   "metadata": {},
   "outputs": [
    {
     "name": "stdout",
     "output_type": "stream",
     "text": [
      "RMSE: 0.8791171115672273\n"
     ]
    }
   ],
   "source": [
    "print('RMSE:', np.sqrt(mean_squared_error(y_test, linear_model.predict(x_test), squared=False)))"
   ]
  },
  {
   "cell_type": "markdown",
   "metadata": {},
   "source": [
    "---"
   ]
  },
  {
   "cell_type": "markdown",
   "metadata": {},
   "source": [
    "###  RandomForestRegressor-модель показала лучший результат, для неё был получены предсказания рейтинга по тестовой выборке."
   ]
  }
 ],
 "metadata": {
  "kernelspec": {
   "display_name": "Python 3",
   "language": "python",
   "name": "python3"
  },
  "language_info": {
   "codemirror_mode": {
    "name": "ipython",
    "version": 3
   },
   "file_extension": ".py",
   "mimetype": "text/x-python",
   "name": "python",
   "nbconvert_exporter": "python",
   "pygments_lexer": "ipython3",
   "version": "3.7.6"
  }
 },
 "nbformat": 4,
 "nbformat_minor": 4
}
