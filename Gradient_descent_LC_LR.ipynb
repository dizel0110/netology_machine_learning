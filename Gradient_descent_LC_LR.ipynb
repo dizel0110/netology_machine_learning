{
 "cells": [
  {
   "cell_type": "markdown",
   "metadata": {},
   "source": [
    "### Домашнее задание к занятию \"Алгоритмы классификации: линейные методы, логистическая регрессия и SVM\""
   ]
  },
  {
   "cell_type": "markdown",
   "metadata": {},
   "source": [
    "#### Условие:  \n",
    "    Задача состоит в модификации кода градиентного спуска для задачи регрессии (ноутбук лекции - Gradient_descent.ipynb). Необходимо, чтобы ваш градиентный спуск мог решать задачи классификации, а именно линейной классификации и логистической регрессии.\n",
    " \n",
    "Решение задачи можно найти в этой статье - https://dyakonov.org/2018/03/12/логистическая-функция-ошибки/.  \n",
    "Там указан необходимый лосс и градиент\"  \n",
    "Также о логистической регрессии можно узнать по ссылке [Пережевывая логистическую регрессию](https://habr.com/ru/post/485872/)"
   ]
  },
  {
   "cell_type": "code",
   "execution_count": 169,
   "metadata": {},
   "outputs": [],
   "source": [
    "import numpy as np\n",
    "import random\n",
    "from sklearn.datasets.samples_generator import make_regression \n",
    "import pylab\n",
    "from scipy import stats"
   ]
  },
  {
   "cell_type": "code",
   "execution_count": 170,
   "metadata": {},
   "outputs": [],
   "source": [
    "# генерируем случайные данные\n",
    "x, y = make_regression(n_samples=100, n_features=1, n_informative=1, \n",
    "                        random_state=0, noise=35)"
   ]
  },
  {
   "cell_type": "code",
   "execution_count": 171,
   "metadata": {},
   "outputs": [
    {
     "data": {
      "image/png": "[encoded data removed]",
      "text/plain": [
       "<Figure size 432x288 with 1 Axes>"
      ]
     },
     "metadata": {
      "needs_background": "light"
     },
     "output_type": "display_data"
    }
   ],
   "source": [
    "# посмотрим что получилось\n",
    "\n",
    "pylab.plot(x, y, 'o')\n",
    "pylab.show()"
   ]
  },
  {
   "cell_type": "code",
   "execution_count": 172,
   "metadata": {},
   "outputs": [
    {
     "data": {
      "text/plain": [
       "(100, 1)"
      ]
     },
     "execution_count": 172,
     "metadata": {},
     "output_type": "execute_result"
    }
   ],
   "source": [
    "# размер данных\n",
    "\n",
    "m, n = np.shape(x)\n",
    "m, n"
   ]
  },
  {
   "cell_type": "code",
   "execution_count": 173,
   "metadata": {},
   "outputs": [
    {
     "data": {
      "text/plain": [
       "array([[ 1.        , -0.35955316],\n",
       "       [ 1.        ,  0.97663904],\n",
       "       [ 1.        ,  0.40234164],\n",
       "       [ 1.        , -0.81314628],\n",
       "       [ 1.        , -0.88778575]])"
      ]
     },
     "execution_count": 173,
     "metadata": {},
     "output_type": "execute_result"
    }
   ],
   "source": [
    "# преобразуем x к следующему виду\n",
    "x = np.c_[ np.ones(m), x]\n",
    "x[:5]"
   ]
  },
  {
   "cell_type": "code",
   "execution_count": 174,
   "metadata": {},
   "outputs": [
    {
     "data": {
      "text/plain": [
       "array([-31.74599395, -28.79914206,  -2.18450294,  28.96679712,\n",
       "       -30.8791169 ])"
      ]
     },
     "execution_count": 174,
     "metadata": {},
     "output_type": "execute_result"
    }
   ],
   "source": [
    "# y лист значений\n",
    "y[:5]"
   ]
  },
  {
   "cell_type": "markdown",
   "metadata": {},
   "source": [
    "### Сначала вручную"
   ]
  },
  {
   "cell_type": "code",
   "execution_count": 175,
   "metadata": {},
   "outputs": [],
   "source": [
    "# шаг алгоритма\n",
    "alpha = 0.01"
   ]
  },
  {
   "cell_type": "code",
   "execution_count": 176,
   "metadata": {},
   "outputs": [],
   "source": [
    "def gradient_descent_2(alpha, x, y, numIterations):\n",
    "    \"\"\"\n",
    "    Функция реализует алгоритм градиентного спуска. На каждом шаге выводится значение функции потерь\n",
    "    \"\"\"\n",
    "    \n",
    "    m = x.shape[0] # 100\n",
    "    theta = np.ones(2) # [ 1.  1.] ВЕСА МОДЕЛИ!!!\n",
    "    x_transpose = x.transpose() # транспонированная матрица x\n",
    "    \n",
    "    for iter in range( 0, numIterations ):\n",
    "        hypothesis = np.dot(x, theta) # матричное произведение\n",
    "        \n",
    "        loss = hypothesis - y\n",
    "        J = np.sum(loss ** 2) / (2 * m)  # функция потерь\n",
    "        \n",
    "#         print( \"iter %s | J: %.3f\" % (iter, J) )\n",
    "        \n",
    "        gradient = np.dot(x_transpose, loss) / m         \n",
    "        theta = theta - alpha * gradient  # update\n",
    "    \n",
    "    return theta"
   ]
  },
  {
   "cell_type": "markdown",
   "metadata": {},
   "source": [
    "GRADIENT = (X_T * веса) / количество_данных\n",
    "\n",
    "1 2 3 4\n",
    "1 2 3 4\n",
    "1 2 3 4\n",
    "1 2 3 4\n",
    "1 2 3 4\n",
    "1 2 3 4\n",
    "\n",
    "1 1 1 1 1 1 1 1 1 1 1 1    0.4\n",
    "2 2 2 2 2 2 2 2 2 2 2 2    0.334\n",
    "3 3 3 3 3 3 3 3 3 3 3 3    0.34\n",
    "4 4 4 4 4 4 4 4 4 4 4 4    0.23\n"
   ]
  },
  {
   "cell_type": "code",
   "execution_count": 177,
   "metadata": {},
   "outputs": [
    {
     "name": "stdout",
     "output_type": "stream",
     "text": [
      "Wall time: 19.9 ms\n"
     ]
    }
   ],
   "source": [
    "%%time\n",
    "theta = gradient_descent_2(alpha, x, y, 1000)"
   ]
  },
  {
   "cell_type": "code",
   "execution_count": 178,
   "metadata": {},
   "outputs": [
    {
     "data": {
      "image/png": "[encoded data removed]",
      "text/plain": [
       "<Figure size 432x288 with 1 Axes>"
      ]
     },
     "metadata": {
      "needs_background": "light"
     },
     "output_type": "display_data"
    }
   ],
   "source": [
    "# построим полученную линию из theta\n",
    "for i in range(x.shape[1]):\n",
    "    y_predict = theta[0] + theta[1]*x \n",
    "    \n",
    "# рисуем результат\n",
    "pylab.plot(x[:,1],y,'o')\n",
    "pylab.plot(x,y_predict,'k-')\n",
    "pylab.show()"
   ]
  },
  {
   "cell_type": "markdown",
   "metadata": {},
   "source": [
    "---"
   ]
  },
  {
   "cell_type": "markdown",
   "metadata": {},
   "source": [
    "### Используем готовые методы"
   ]
  },
  {
   "cell_type": "code",
   "execution_count": 179,
   "metadata": {},
   "outputs": [],
   "source": [
    "from sklearn import linear_model"
   ]
  },
  {
   "cell_type": "code",
   "execution_count": 180,
   "metadata": {},
   "outputs": [],
   "source": [
    "model = linear_model.SGDRegressor( alpha = 0.01, max_iter = 1000 )"
   ]
  },
  {
   "cell_type": "code",
   "execution_count": 181,
   "metadata": {},
   "outputs": [],
   "source": [
    "x, y = make_regression(n_samples=100, n_features=1, n_informative=1, \n",
    "                        random_state=0, noise=35)"
   ]
  },
  {
   "cell_type": "code",
   "execution_count": 182,
   "metadata": {},
   "outputs": [
    {
     "name": "stdout",
     "output_type": "stream",
     "text": [
      "Wall time: 974 µs\n"
     ]
    },
    {
     "data": {
      "text/plain": [
       "SGDRegressor(alpha=0.01, average=False, early_stopping=False, epsilon=0.1,\n",
       "             eta0=0.01, fit_intercept=True, l1_ratio=0.15,\n",
       "             learning_rate='invscaling', loss='squared_loss', max_iter=1000,\n",
       "             n_iter_no_change=5, penalty='l2', power_t=0.25, random_state=None,\n",
       "             shuffle=True, tol=0.001, validation_fraction=0.1, verbose=0,\n",
       "             warm_start=False)"
      ]
     },
     "execution_count": 182,
     "metadata": {},
     "output_type": "execute_result"
    }
   ],
   "source": [
    "%%time \n",
    "\n",
    "model.fit( x, y )"
   ]
  },
  {
   "cell_type": "code",
   "execution_count": 183,
   "metadata": {},
   "outputs": [
    {
     "data": {
      "text/plain": [
       "(array([-2.79850041]), array([42.70711634]))"
      ]
     },
     "execution_count": 183,
     "metadata": {},
     "output_type": "execute_result"
    }
   ],
   "source": [
    "model.intercept_, model.coef_"
   ]
  },
  {
   "cell_type": "code",
   "execution_count": 184,
   "metadata": {},
   "outputs": [],
   "source": [
    "y_predict_sgd = model.predict( x )"
   ]
  },
  {
   "cell_type": "code",
   "execution_count": 185,
   "metadata": {},
   "outputs": [
    {
     "data": {
      "image/png": "[encoded data removed]",
      "text/plain": [
       "<Figure size 432x288 with 1 Axes>"
      ]
     },
     "metadata": {
      "needs_background": "light"
     },
     "output_type": "display_data"
    }
   ],
   "source": [
    "pylab.plot(x, y, 'o')\n",
    "pylab.plot(x, y_predict_sgd, 'k-')\n",
    "pylab.show()"
   ]
  },
  {
   "cell_type": "markdown",
   "metadata": {},
   "source": [
    "---"
   ]
  },
  {
   "cell_type": "markdown",
   "metadata": {},
   "source": [
    "## Градиентный спуск логистической регрессии"
   ]
  },
  {
   "cell_type": "markdown",
   "metadata": {},
   "source": [
    "При вычислении функции логистического отклика понадобится вычисления экспоненты:"
   ]
  },
  {
   "cell_type": "markdown",
   "metadata": {},
   "source": [
    "Вот увидел ссылочка https://www.machinelearningmastery.ru/generate-test-datasets-python-scikit-learn/\n",
    "и еще https://progi.pro/chto-oznachayut-parametri-n_features-i-center-v-make_blobs-v-scikit-528841"
   ]
  },
  {
   "cell_type": "markdown",
   "metadata": {},
   "source": [
    "### Приведём для ознакомления несколько примеров работы make_blobs"
   ]
  },
  {
   "cell_type": "code",
   "execution_count": 33,
   "metadata": {},
   "outputs": [
    {
     "data": {
      "image/png": "[encoded data removed]",
      "text/plain": [
       "<Figure size 432x288 with 1 Axes>"
      ]
     },
     "metadata": {
      "needs_background": "light"
     },
     "output_type": "display_data"
    }
   ],
   "source": [
    "from sklearn.datasets.samples_generator import make_blobs\n",
    "from matplotlib import pyplot\n",
    "from pandas import DataFrame\n",
    "# generate 2d classification dataset\n",
    "X, y = make_blobs(n_samples=100, centers = 3, n_features=2)\n",
    "# scatter plot, dots colored by class value\n",
    "df = DataFrame(dict(x=X[:,0], y=X[:,1], label=y))\n",
    "colors = {0:'red', 1:'blue', 2:'green'}\n",
    "fig, ax = pyplot.subplots()\n",
    "grouped = df.groupby('label')\n",
    "for key, group in grouped:\n",
    "    group.plot(ax=ax, kind='scatter', x='x', y='y', label=key, color=colors[key])\n",
    "pyplot.show()"
   ]
  },
  {
   "cell_type": "code",
   "execution_count": 34,
   "metadata": {},
   "outputs": [
    {
     "data": {
      "image/png": "[encoded data removed]",
      "text/plain": [
       "<Figure size 432x288 with 1 Axes>"
      ]
     },
     "metadata": {
      "needs_background": "light"
     },
     "output_type": "display_data"
    },
    {
     "data": {
      "image/png": "[encoded data removed]",
      "text/plain": [
       "<Figure size 432x288 with 1 Axes>"
      ]
     },
     "metadata": {
      "needs_background": "light"
     },
     "output_type": "display_data"
    },
    {
     "data": {
      "image/png": "[encoded data removed]",
      "text/plain": [
       "<Figure size 432x288 with 1 Axes>"
      ]
     },
     "metadata": {
      "needs_background": "light"
     },
     "output_type": "display_data"
    }
   ],
   "source": [
    "from sklearn.datasets.samples_generator import make_blobs\n",
    "from matplotlib import pyplot as plt\n",
    "\n",
    "# plot 1\n",
    "X, y = make_blobs(n_features=2, centers=1)\n",
    "plt.figure()\n",
    "plt.scatter(X[:, 0], X[:, 1], c=y)\n",
    "plt.savefig('centers_1.png')\n",
    "plt.title('centers = 1')\n",
    "\n",
    "\n",
    "\n",
    "# plot 2    \n",
    "X, y = make_blobs(n_features=2, centers=2)\n",
    "plt.figure()\n",
    "plt.scatter(X[:, 0], X[:, 1], c=y)\n",
    "plt.title('centers = 2')\n",
    "\n",
    "\n",
    "\n",
    "# plot 3\n",
    "X, y = make_blobs(n_features=2, centers=3)\n",
    "plt.figure()\n",
    "plt.scatter(X[:, 0], X[:, 1], c=y)\n",
    "plt.title('centers = 3')\n",
    "\n",
    "\n",
    "\n",
    "plt.show()"
   ]
  },
  {
   "cell_type": "markdown",
   "metadata": {},
   "source": [
    "## Выберем и создадим датасет для классификации логистической регрессией!"
   ]
  },
  {
   "cell_type": "code",
   "execution_count": 253,
   "metadata": {},
   "outputs": [
    {
     "data": {
      "text/plain": [
       "Text(0.5, 1.0, 'centers = 2')"
      ]
     },
     "execution_count": 253,
     "metadata": {},
     "output_type": "execute_result"
    },
    {
     "data": {
      "image/png": "[encoded data removed]",
      "text/plain": [
       "<Figure size 432x288 with 1 Axes>"
      ]
     },
     "metadata": {
      "needs_background": "light"
     },
     "output_type": "display_data"
    }
   ],
   "source": [
    "X, y = make_blobs(n_features=2, centers=2)\n",
    "plt.figure()\n",
    "plt.scatter(X[:, 0], X[:, 1], c=y)\n",
    "plt.title('centers = 2')"
   ]
  },
  {
   "cell_type": "markdown",
   "metadata": {},
   "source": [
    "Абсцисса:"
   ]
  },
  {
   "cell_type": "code",
   "execution_count": 254,
   "metadata": {},
   "outputs": [
    {
     "data": {
      "text/plain": [
       "array([-4.45313978, -5.45513358, -5.93885383, -2.95824814, -3.82630091,\n",
       "        5.45687438,  4.7134083 , -4.9181713 ,  8.05644267,  6.31981327,\n",
       "        6.41194329,  7.4071014 ,  6.43092862, -3.12064586,  7.03156419,\n",
       "       -3.22470527, -5.83971115, -5.83464397, -4.2240971 ,  6.98634528,\n",
       "       -3.66452308,  7.4091594 ,  7.60300545,  4.49627985, -5.02138745,\n",
       "       -5.05430911, -4.53903522, -4.1502405 , -4.39994305, -3.04725913,\n",
       "       -3.91734903,  4.43858977, -2.86422725,  6.24848293,  4.93855348,\n",
       "        8.0640738 , -2.81954761,  6.68484423, -3.55181252, -4.33722658,\n",
       "       -4.57046469, -2.80469486, -5.5347732 ,  7.82997406,  6.22723425,\n",
       "        7.30381379,  6.06904872,  6.9911245 ,  7.0538741 , -3.92713951,\n",
       "        7.03241021, -3.83705029, -4.32066514,  6.75484074,  6.19579891,\n",
       "        6.16346523, -3.62353383, -4.0561429 ,  7.95019777,  6.60602125,\n",
       "       -4.09347887, -2.99521943,  6.8887649 , -4.10373619,  6.24302631,\n",
       "        6.10573579,  6.37608867, -4.74535121,  6.68179742,  7.31205631,\n",
       "       -5.26106424, -3.45512048,  6.60719967,  7.35796457, -5.33560504,\n",
       "        7.77918031, -4.92518783,  7.29367124, -4.10541691,  6.23175141,\n",
       "        6.5901627 ,  6.27434424,  5.39443834, -2.95887863, -2.79451397,\n",
       "        6.50296476, -5.418585  , -3.88730002, -3.83780167,  6.89441827,\n",
       "       -4.09324595, -5.01561228, -3.48381568,  5.88928256,  5.25804955,\n",
       "       -3.4847789 ,  6.30434988,  6.8937262 , -5.83299414,  5.65057869])"
      ]
     },
     "execution_count": 254,
     "metadata": {},
     "output_type": "execute_result"
    }
   ],
   "source": [
    "X[:, 0]"
   ]
  },
  {
   "cell_type": "markdown",
   "metadata": {},
   "source": [
    "Ордината:"
   ]
  },
  {
   "cell_type": "code",
   "execution_count": 255,
   "metadata": {},
   "outputs": [
    {
     "data": {
      "text/plain": [
       "array([-0.32292332, -0.95144389, -1.57790037, -1.25529669, -1.29629481,\n",
       "        5.56146621,  4.12621964,  1.45932086,  3.75712829,  4.42436983,\n",
       "        5.77548314,  5.62797773,  4.16325707, -0.89359014,  5.44836567,\n",
       "       -2.54920682, -0.71064056, -1.821346  , -1.66037948,  5.01371126,\n",
       "       -2.52388714,  3.83210159,  4.50449827,  4.21015273, -1.87021271,\n",
       "        0.01868872, -0.65889332, -3.12246182,  0.48586381, -0.81369523,\n",
       "       -1.77172299,  5.21082098, -1.88111861,  4.10907929,  4.84095208,\n",
       "        4.52480188, -0.9263006 ,  5.07340873, -1.78397203,  1.10097628,\n",
       "       -2.3138072 , -0.35228256, -0.82247755,  5.03978349,  4.56415381,\n",
       "        2.92648869,  2.4901092 ,  5.51575414,  2.26204195, -1.45481205,\n",
       "        3.47471155,  0.16618688, -0.16399798,  5.22901538,  4.00382017,\n",
       "        5.22372157, -0.4813026 , -1.94904417,  2.45238826,  4.72418202,\n",
       "       -0.87123752, -2.05646882,  2.92726536,  0.98661948,  5.12669322,\n",
       "        4.19756582,  4.86263158, -2.47029173,  6.05277962,  4.42773769,\n",
       "       -1.04223271, -0.85478792,  3.55957873,  3.31256222, -2.33148412,\n",
       "        4.89795558, -1.42526898,  1.96744154, -1.87085187,  4.00075331,\n",
       "        3.14632956,  3.58967503,  3.8630167 , -1.40007632, -2.63081631,\n",
       "        3.59979965, -0.56988115, -1.43218629, -0.83715394,  4.7240304 ,\n",
       "        0.14287605,  0.57284426, -2.55873145,  5.85381741,  6.1243063 ,\n",
       "       -1.1233606 ,  4.59331499,  4.34824512, -2.01155003,  3.852593  ])"
      ]
     },
     "execution_count": 255,
     "metadata": {},
     "output_type": "execute_result"
    }
   ],
   "source": [
    "X[:, 1]"
   ]
  },
  {
   "cell_type": "markdown",
   "metadata": {},
   "source": [
    "Класс (цвет):"
   ]
  },
  {
   "cell_type": "code",
   "execution_count": 256,
   "metadata": {},
   "outputs": [
    {
     "data": {
      "text/plain": [
       "array([0, 0, 0, 0, 0, 1, 1, 0, 1, 1, 1, 1, 1, 0, 1, 0, 0, 0, 0, 1, 0, 1,\n",
       "       1, 1, 0, 0, 0, 0, 0, 0, 0, 1, 0, 1, 1, 1, 0, 1, 0, 0, 0, 0, 0, 1,\n",
       "       1, 1, 1, 1, 1, 0, 1, 0, 0, 1, 1, 1, 0, 0, 1, 1, 0, 0, 1, 0, 1, 1,\n",
       "       1, 0, 1, 1, 0, 0, 1, 1, 0, 1, 0, 1, 0, 1, 1, 1, 1, 0, 0, 1, 0, 0,\n",
       "       0, 1, 0, 0, 0, 1, 1, 0, 1, 1, 0, 1])"
      ]
     },
     "execution_count": 256,
     "metadata": {},
     "output_type": "execute_result"
    }
   ],
   "source": [
    "y"
   ]
  },
  {
   "cell_type": "code",
   "execution_count": 257,
   "metadata": {},
   "outputs": [],
   "source": [
    "from math import exp"
   ]
  },
  {
   "cell_type": "code",
   "execution_count": 258,
   "metadata": {},
   "outputs": [],
   "source": [
    "def gradient_descent_lr(alpha, x, y, numIterations):\n",
    "    \n",
    "    m =x.shape[0] # 100\n",
    "    theta = np.ones(2) # [ 1. 1.]\n",
    "    x_transpose = x.transpose()\n",
    "    for iter in range(0, numIterations):\n",
    "        hypothesis_0 = np.dot(x, theta)\n",
    "        loss = 0\n",
    "        for val in hypothesis_0:\n",
    "            hypothesis = 1.0/(1.0 + exp((-1)*float(val)))\n",
    "            loss += ((float(hypothesis) - y))\n",
    "        J = np.sum(loss ** 2)\n",
    "        gradient = (1.0 / m) * np.dot(x_transpose, loss)\n",
    "        theta = theta - alpha * gradient\n",
    "        \n",
    "    return theta"
   ]
  },
  {
   "cell_type": "code",
   "execution_count": 259,
   "metadata": {},
   "outputs": [
    {
     "name": "stdout",
     "output_type": "stream",
     "text": [
      "Wall time: 366 ms\n"
     ]
    }
   ],
   "source": [
    "%%time\n",
    "alpha = 0.0001\n",
    "theta = gradient_descent_lr(alpha, X, y, 1000)"
   ]
  },
  {
   "cell_type": "code",
   "execution_count": 260,
   "metadata": {},
   "outputs": [
    {
     "data": {
      "text/plain": [
       "array([27.85279857, 14.68022061])"
      ]
     },
     "execution_count": 260,
     "metadata": {},
     "output_type": "execute_result"
    }
   ],
   "source": [
    "theta"
   ]
  },
  {
   "cell_type": "code",
   "execution_count": 261,
   "metadata": {},
   "outputs": [
    {
     "data": {
      "image/png": "[encoded data removed]",
      "text/plain": [
       "<Figure size 432x288 with 1 Axes>"
      ]
     },
     "metadata": {
      "needs_background": "light"
     },
     "output_type": "display_data"
    }
   ],
   "source": [
    "y_predict = []\n",
    "for i in X: \n",
    "    y_predict.append(1/(1+exp(-1*(theta[0] + theta[1]*i[1]))))\n",
    "pylab.plot(X[:,1],y_predict,'o')\n",
    "#pylab.plot(x,y_predict,'k-')\n",
    "\n",
    "pylab.show()"
   ]
  },
  {
   "cell_type": "code",
   "execution_count": 262,
   "metadata": {},
   "outputs": [
    {
     "data": {
      "text/plain": [
       "[0.9999999999082738,\n",
       " 0.9999990674968156,\n",
       " 0.9908867704073504,\n",
       " 0.9999193060524589,\n",
       " 0.9998527019051507,\n",
       " 1.0,\n",
       " 1.0,\n",
       " 1.0,\n",
       " 1.0,\n",
       " 1.0,\n",
       " 1.0,\n",
       " 1.0,\n",
       " 1.0,\n",
       " 0.999999601157265,\n",
       " 1.0,\n",
       " 6.977814792793338e-05,\n",
       " 0.9999999728105916,\n",
       " 0.7530670519528263,\n",
       " 0.9700570669352013,\n",
       " 1.0,\n",
       " 0.00010118877827397121,\n",
       " 1.0,\n",
       " 1.0,\n",
       " 1.0,\n",
       " 0.5981261545652486,\n",
       " 0.9999999999993912,\n",
       " 0.9999999872801147,\n",
       " 1.545041728290447e-08,\n",
       " 0.9999999999999993,\n",
       " 0.9999998765677195,\n",
       " 0.8633638052648508,\n",
       " 1.0,\n",
       " 0.5591128477930458,\n",
       " 1.0,\n",
       " 1.0,\n",
       " 1.0,\n",
       " 0.9999993553137863,\n",
       " 1.0,\n",
       " 0.8407334684205595,\n",
       " 1.0,\n",
       " 0.0022059216765509078,\n",
       " 0.999999999858852,\n",
       " 0.9999998595826596,\n",
       " 1.0,\n",
       " 1.0,\n",
       " 1.0,\n",
       " 1.0,\n",
       " 1.0,\n",
       " 1.0,\n",
       " 0.9984925643980117,\n",
       " 1.0,\n",
       " 0.9999999999999301,\n",
       " 0.9999999999911027,\n",
       " 1.0,\n",
       " 1.0,\n",
       " 1.0,\n",
       " 0.9999999990619053,\n",
       " 0.3187331469066673,\n",
       " 1.0,\n",
       " 1.0,\n",
       " 0.999999712729026,\n",
       " 0.08813538451721781,\n",
       " 1.0,\n",
       " 1.0,\n",
       " 1.0,\n",
       " 1.0,\n",
       " 1.0,\n",
       " 0.00022221808987732332,\n",
       " 1.0,\n",
       " 1.0,\n",
       " 0.9999964642886527,\n",
       " 0.9999997743596668,\n",
       " 1.0,\n",
       " 1.0,\n",
       " 0.0017025866247357792,\n",
       " 1.0,\n",
       " 0.9990225012637303,\n",
       " 1.0,\n",
       " 0.5958686787754577,\n",
       " 1.0,\n",
       " 1.0,\n",
       " 1.0,\n",
       " 1.0,\n",
       " 0.999324491620746,\n",
       " 2.105892016315711e-05,\n",
       " 1.0,\n",
       " 0.999999996556638,\n",
       " 0.998918136608541,\n",
       " 0.9999998258230788,\n",
       " 1.0,\n",
       " 0.9999999999999016,\n",
       " 0.9999999999999998,\n",
       " 6.067345688830867e-05,\n",
       " 1.0,\n",
       " 1.0,\n",
       " 0.9999883665829299,\n",
       " 1.0,\n",
       " 1.0,\n",
       " 0.1574666373396555,\n",
       " 1.0]"
      ]
     },
     "execution_count": 262,
     "metadata": {},
     "output_type": "execute_result"
    }
   ],
   "source": [
    "y_predict"
   ]
  },
  {
   "cell_type": "code",
   "execution_count": 263,
   "metadata": {
    "scrolled": true
   },
   "outputs": [
    {
     "data": {
      "text/plain": [
       "(0.9999999999082738,\n",
       " 0,\n",
       " array([27.85279857, 14.68022061]),\n",
       " array([-4.45313978, -0.32292332]))"
      ]
     },
     "execution_count": 263,
     "metadata": {},
     "output_type": "execute_result"
    }
   ],
   "source": [
    "y_predict[0], y[0], theta, X[0]"
   ]
  },
  {
   "cell_type": "code",
   "execution_count": 264,
   "metadata": {},
   "outputs": [
    {
     "data": {
      "image/png": "[encoded data removed]",
      "text/plain": [
       "<Figure size 432x288 with 1 Axes>"
      ]
     },
     "metadata": {
      "needs_background": "light"
     },
     "output_type": "display_data"
    }
   ],
   "source": [
    "# построим полученную линию из theta\n",
    "for i in range(x.shape[1]):\n",
    "    y_predict =  theta[0] + theta[1]*x \n",
    "    \n",
    "# рисуем результат\n",
    "plt.figure()\n",
    "plt.scatter(X[:, 0], X[:, 1], c=y)\n",
    "#pylab.plot(x,y_predict,'k-')\n",
    "plt.title('centers = 2')\n",
    "pylab.plot(x,y_predict,'k-')\n",
    "pylab.show()"
   ]
  },
  {
   "cell_type": "markdown",
   "metadata": {},
   "source": [
    "### Используем готовые методы"
   ]
  },
  {
   "cell_type": "code",
   "execution_count": 266,
   "metadata": {},
   "outputs": [],
   "source": [
    "from sklearn import linear_model\n",
    "from sklearn.linear_model import LogisticRegression\n",
    "from sklearn import preprocessing"
   ]
  },
  {
   "cell_type": "code",
   "execution_count": 267,
   "metadata": {},
   "outputs": [],
   "source": [
    "model = LogisticRegression()"
   ]
  },
  {
   "cell_type": "code",
   "execution_count": 268,
   "metadata": {},
   "outputs": [],
   "source": [
    "le = preprocessing.LabelEncoder()\n",
    "y_R = le.fit_transform(y)"
   ]
  },
  {
   "cell_type": "code",
   "execution_count": 269,
   "metadata": {},
   "outputs": [
    {
     "data": {
      "text/plain": [
       "array([0, 0, 0, 0, 0, 1, 1, 0, 1, 1, 1, 1, 1, 0, 1, 0, 0, 0, 0, 1, 0, 1,\n",
       "       1, 1, 0, 0, 0, 0, 0, 0, 0, 1, 0, 1, 1, 1, 0, 1, 0, 0, 0, 0, 0, 1,\n",
       "       1, 1, 1, 1, 1, 0, 1, 0, 0, 1, 1, 1, 0, 0, 1, 1, 0, 0, 1, 0, 1, 1,\n",
       "       1, 0, 1, 1, 0, 0, 1, 1, 0, 1, 0, 1, 0, 1, 1, 1, 1, 0, 0, 1, 0, 0,\n",
       "       0, 1, 0, 0, 0, 1, 1, 0, 1, 1, 0, 1], dtype=int64)"
      ]
     },
     "execution_count": 269,
     "metadata": {},
     "output_type": "execute_result"
    }
   ],
   "source": [
    "y_R"
   ]
  },
  {
   "cell_type": "code",
   "execution_count": 270,
   "metadata": {},
   "outputs": [],
   "source": [
    "model.fit(X, y_R)\n",
    "predictions = model.predict_proba(X)"
   ]
  },
  {
   "cell_type": "code",
   "execution_count": 271,
   "metadata": {},
   "outputs": [
    {
     "data": {
      "text/plain": [
       "1.0"
      ]
     },
     "execution_count": 271,
     "metadata": {},
     "output_type": "execute_result"
    }
   ],
   "source": [
    "model.score(X, y_R)"
   ]
  },
  {
   "cell_type": "code",
   "execution_count": 272,
   "metadata": {},
   "outputs": [],
   "source": [
    "model_R = linear_model.SGDRegressor(alpha = 0.000001, max_iter = 1000)"
   ]
  },
  {
   "cell_type": "code",
   "execution_count": 273,
   "metadata": {},
   "outputs": [
    {
     "data": {
      "text/plain": [
       "SGDRegressor(alpha=1e-06, average=False, early_stopping=False, epsilon=0.1,\n",
       "             eta0=0.01, fit_intercept=True, l1_ratio=0.15,\n",
       "             learning_rate='invscaling', loss='squared_loss', max_iter=1000,\n",
       "             n_iter_no_change=5, penalty='l2', power_t=0.25, random_state=None,\n",
       "             shuffle=True, tol=0.001, validation_fraction=0.1, verbose=0,\n",
       "             warm_start=False)"
      ]
     },
     "execution_count": 273,
     "metadata": {},
     "output_type": "execute_result"
    }
   ],
   "source": [
    "model_R.fit(X, y_R)"
   ]
  },
  {
   "cell_type": "code",
   "execution_count": 274,
   "metadata": {},
   "outputs": [
    {
     "data": {
      "text/plain": [
       "(array([0.26810606]), array([0.04975156, 0.08091005]))"
      ]
     },
     "execution_count": 274,
     "metadata": {},
     "output_type": "execute_result"
    }
   ],
   "source": [
    "model_R.intercept_, model_R.coef_"
   ]
  },
  {
   "cell_type": "code",
   "execution_count": 275,
   "metadata": {},
   "outputs": [],
   "source": [
    "y_predict_sgd = model_R.predict(X)"
   ]
  },
  {
   "cell_type": "code",
   "execution_count": 276,
   "metadata": {
    "scrolled": true
   },
   "outputs": [
    {
     "data": {
      "image/png": "[encoded data removed]",
      "text/plain": [
       "<Figure size 432x288 with 1 Axes>"
      ]
     },
     "metadata": {
      "needs_background": "light"
     },
     "output_type": "display_data"
    }
   ],
   "source": [
    "pylab.plot(X, y_R, 'o')\n",
    "#pylab.plot(X, y_predict_sgd, 'k-')\n",
    "pylab.show()"
   ]
  },
  {
   "cell_type": "code",
   "execution_count": 277,
   "metadata": {},
   "outputs": [
    {
     "data": {
      "image/png": "[encoded data removed]",
      "text/plain": [
       "<Figure size 288x216 with 1 Axes>"
      ]
     },
     "metadata": {},
     "output_type": "display_data"
    }
   ],
   "source": [
    "import numpy as np\n",
    "import matplotlib.pyplot as plt\n",
    "from sklearn.linear_model import LogisticRegression\n",
    "from sklearn import datasets\n",
    "\n",
    "\n",
    "logreg = LogisticRegression(C=1e5)\n",
    "\n",
    "# Create an instance of Logistic Regression Classifier and fit the data.\n",
    "logreg.fit(X, y)\n",
    "\n",
    "# Plot the decision boundary. For that, we will assign a color to each\n",
    "# point in the mesh [x_min, x_max]x[y_min, y_max].\n",
    "x_min, x_max = X[:, 0].min() - .5, X[:, 0].max() + .5\n",
    "y_min, y_max = X[:, 1].min() - .5, X[:, 1].max() + .5\n",
    "h = .02  # step size in the mesh\n",
    "xx, yy = np.meshgrid(np.arange(x_min, x_max, h), np.arange(y_min, y_max, h))\n",
    "Z = logreg.predict(np.c_[xx.ravel(), yy.ravel()])\n",
    "\n",
    "# Put the result into a color plot\n",
    "Z = Z.reshape(xx.shape)\n",
    "plt.figure(1, figsize=(4, 3))\n",
    "plt.pcolormesh(xx, yy, Z, cmap=plt.cm.Paired)\n",
    "\n",
    "# Plot also the training points\n",
    "plt.scatter(X[:, 0], X[:, 1], c=y, edgecolors='k', cmap=plt.cm.Paired)\n",
    "plt.xlabel('First class')\n",
    "plt.ylabel('Second class')\n",
    "\n",
    "plt.xlim(xx.min(), xx.max())\n",
    "plt.ylim(yy.min(), yy.max())\n",
    "plt.xticks(())\n",
    "plt.yticks(())\n",
    "\n",
    "plt.show()\n"
   ]
  },
  {
   "cell_type": "code",
   "execution_count": 278,
   "metadata": {},
   "outputs": [
    {
     "data": {
      "text/plain": [
       "array([0, 0, 0, 0, 0, 1, 1, 0, 1, 1, 1, 1, 1, 0, 1, 0, 0, 0, 0, 1, 0, 1,\n",
       "       1, 1, 0, 0, 0, 0, 0, 0, 0, 1, 0, 1, 1, 1, 0, 1, 0, 0, 0, 0, 0, 1,\n",
       "       1, 1, 1, 1, 1, 0, 1, 0, 0, 1, 1, 1, 0, 0, 1, 1, 0, 0, 1, 0, 1, 1,\n",
       "       1, 0, 1, 1, 0, 0, 1, 1, 0, 1, 0, 1, 0, 1, 1, 1, 1, 0, 0, 1, 0, 0,\n",
       "       0, 1, 0, 0, 0, 1, 1, 0, 1, 1, 0, 1])"
      ]
     },
     "execution_count": 278,
     "metadata": {},
     "output_type": "execute_result"
    }
   ],
   "source": [
    "y"
   ]
  },
  {
   "cell_type": "code",
   "execution_count": 279,
   "metadata": {},
   "outputs": [
    {
     "data": {
      "text/plain": [
       "array([[42.53301919, 22.57447884],\n",
       "       [42.53301919, 42.19007509],\n",
       "       [42.53301919, 33.75926263],\n",
       "       [42.53301919, 15.91563177],\n",
       "       [42.53301919, 14.81990794],\n",
       "       [42.53301919, 34.36880875],\n",
       "       [42.53301919, 13.5061437 ],\n",
       "       [42.53301919, 34.14080493],\n",
       "       [42.53301919, 30.9103212 ],\n",
       "       [42.53301919, 23.27913867],\n",
       "       [42.53301919, 20.35406647],\n",
       "       [42.53301919, 29.71589609],\n",
       "       [42.53301919,  5.30040235],\n",
       "       [42.53301919, 21.95456579],\n",
       "       [42.53301919, 37.44806375],\n",
       "       [42.53301919, 45.15754273],\n",
       "       [42.53301919, 25.21146229],\n",
       "       [42.53301919, 54.06977141],\n",
       "       [42.53301919, 49.20185449],\n",
       "       [42.53301919, 17.79963536],\n",
       "       [42.53301919, 42.2208881 ],\n",
       "       [42.53301919, 55.68486993],\n",
       "       [42.53301919, 21.42177118],\n",
       "       [42.53301919, 32.4487015 ],\n",
       "       [42.53301919, 39.02500027],\n",
       "       [42.53301919, 39.26652852],\n",
       "       [42.53301919, 56.49061174],\n",
       "       [42.53301919, 32.75121131],\n",
       "       [42.53301919, 22.74537147],\n",
       "       [42.53301919, 50.35433559],\n",
       "       [42.53301919, 14.70715191],\n",
       "       [42.53301919, 19.3551578 ],\n",
       "       [42.53301919, 12.45980973],\n",
       "       [42.53301919, 33.40430779],\n",
       "       [42.53301919, 28.0069412 ],\n",
       "       [42.53301919, 34.64654418],\n",
       "       [42.53301919, 29.96738998],\n",
       "       [42.53301919, 21.93407205],\n",
       "       [42.53301919, 28.61536844],\n",
       "       [42.53301919,  9.46148631],\n",
       "       [42.53301919, 43.33238255],\n",
       "       [42.53301919, 33.72719467],\n",
       "       [42.53301919,  2.80437575],\n",
       "       [42.53301919, 60.74960511],\n",
       "       [42.53301919, 30.45745349],\n",
       "       [42.53301919, 24.84103   ],\n",
       "       [42.53301919, 45.91373718],\n",
       "       [42.53301919, 15.3144847 ],\n",
       "       [42.53301919, 53.74947618],\n",
       "       [42.53301919, 33.88047517],\n",
       "       [42.53301919, 14.53345843],\n",
       "       [42.53301919,  7.00662199],\n",
       "       [42.53301919, 34.68882592],\n",
       "       [42.53301919, 41.07713014],\n",
       "       [42.53301919, 44.57945199],\n",
       "       [42.53301919, 33.75409111],\n",
       "       [42.53301919, 33.5326126 ],\n",
       "       [42.53301919,  2.51058914],\n",
       "       [42.53301919, 49.42330947],\n",
       "       [42.53301919, 25.10489836],\n",
       "       [42.53301919, 15.06930432],\n",
       "       [42.53301919, 32.29315276],\n",
       "       [42.53301919, 45.50400001],\n",
       "       [42.53301919, -1.22573056],\n",
       "       [42.53301919, -9.62565514],\n",
       "       [42.53301919,  6.50238962],\n",
       "       [42.53301919, 27.43907725],\n",
       "       [42.53301919, 30.12746097],\n",
       "       [42.53301919, 45.79856189],\n",
       "       [42.53301919, 55.26896187],\n",
       "       [42.53301919, 61.17329719],\n",
       "       [42.53301919, 16.95765235],\n",
       "       [42.53301919, 28.82928607],\n",
       "       [42.53301919, 49.78620898],\n",
       "       [42.53301919, 17.98093085],\n",
       "       [42.53301919,  3.9211272 ],\n",
       "       [42.53301919, 29.74629616],\n",
       "       [42.53301919, 41.80030614],\n",
       "       [42.53301919, 49.7006691 ],\n",
       "       [42.53301919, 28.67731819],\n",
       "       [42.53301919, 40.54291268],\n",
       "       [42.53301919, 38.22544856],\n",
       "       [42.53301919, 25.63084137],\n",
       "       [42.53301919, 12.13391387],\n",
       "       [42.53301919, 26.33752306],\n",
       "       [42.53301919, 23.4149275 ],\n",
       "       [42.53301919, 22.16675545],\n",
       "       [42.53301919, 38.55600887],\n",
       "       [42.53301919, 29.63901466],\n",
       "       [42.53301919, 20.37099211],\n",
       "       [42.53301919,  9.72528312],\n",
       "       [42.53301919, 24.72972433],\n",
       "       [42.53301919, 18.5408103 ],\n",
       "       [42.53301919, 30.14803593],\n",
       "       [42.53301919, 28.5245437 ],\n",
       "       [42.53301919, 10.74814187],\n",
       "       [42.53301919, 22.52767823],\n",
       "       [42.53301919, 33.0843359 ],\n",
       "       [42.53301919,  4.16042213],\n",
       "       [42.53301919, 10.52085765]])"
      ]
     },
     "execution_count": 279,
     "metadata": {},
     "output_type": "execute_result"
    }
   ],
   "source": [
    "y_predict"
   ]
  }
 ],
 "metadata": {
  "kernelspec": {
   "display_name": "Python 3",
   "language": "python",
   "name": "python3"
  },
  "language_info": {
   "codemirror_mode": {
    "name": "ipython",
    "version": 3
   },
   "file_extension": ".py",
   "mimetype": "text/x-python",
   "name": "python",
   "nbconvert_exporter": "python",
   "pygments_lexer": "ipython3",
   "version": "3.7.6"
  }
 },
 "nbformat": 4,
 "nbformat_minor": 2
}
