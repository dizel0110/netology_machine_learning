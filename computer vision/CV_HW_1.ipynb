{
 "cells": [
  {
   "cell_type": "markdown",
   "metadata": {},
   "source": [
    "# Домашнее задание №1 по блоку CV (Computer Vision)"
   ]
  },
  {
   "cell_type": "code",
   "execution_count": 3,
   "metadata": {},
   "outputs": [
    {
     "name": "stdout",
     "output_type": "stream",
     "text": [
      "Name: tensorflow\n",
      "Version: 2.3.0\n",
      "Summary: TensorFlow is an open source machine learning framework for everyone.\n",
      "Home-page: https://www.tensorflow.org/\n",
      "Author: Google Inc.\n",
      "Author-email: packages@tensorflow.org\n",
      "License: Apache 2.0\n",
      "Location: c:\\programdata\\anaconda3\\lib\\site-packages\n",
      "Requires: protobuf, numpy, tensorflow-estimator, wheel, keras-preprocessing, gast, h5py, termcolor, six, grpcio, google-pasta, absl-py, scipy, tensorboard, opt-einsum, astunparse, wrapt\n",
      "Required-by: \n"
     ]
    }
   ],
   "source": [
    "!pip show tensorflow"
   ]
  },
  {
   "cell_type": "code",
   "execution_count": 5,
   "metadata": {},
   "outputs": [],
   "source": [
    "import tensorflow as tf\n",
    "import tensorflow.keras as keras\n",
    "import numpy as np\n",
    "import matplotlib.pyplot as plt\n",
    "from sklearn.model_selection import train_test_split\n",
    "from sklearn.preprocessing import StandardScaler"
   ]
  },
  {
   "cell_type": "markdown",
   "metadata": {},
   "source": [
    "#### 1. Возьмите датасет https://www.kaggle.com/ajayrana/hymenoptera-data"
   ]
  },
  {
   "cell_type": "code",
   "execution_count": 6,
   "metadata": {},
   "outputs": [],
   "source": [
    "train_generator = keras.preprocessing.image.ImageDataGenerator(rescale=1./255.)\n",
    "test_generator = keras.preprocessing.image.ImageDataGenerator(rescale=1./255.)"
   ]
  },
  {
   "cell_type": "code",
   "execution_count": 8,
   "metadata": {},
   "outputs": [
    {
     "name": "stdout",
     "output_type": "stream",
     "text": [
      "Found 244 images belonging to 2 classes.\n",
      "Found 153 images belonging to 2 classes.\n"
     ]
    }
   ],
   "source": [
    "train = train_generator.flow_from_directory('hymenoptera_data/train', target_size=(224, 224), batch_size=32, class_mode='binary')\n",
    "test = test_generator.flow_from_directory('hymenoptera_data/val', target_size=(224, 224), batch_size=32, class_mode='binary')"
   ]
  },
  {
   "cell_type": "code",
   "execution_count": 9,
   "metadata": {},
   "outputs": [],
   "source": []
  },
  {
   "cell_type": "markdown",
   "metadata": {},
   "source": [
    "#### 2. Реализуйте сверточную нейронную сеть с использованием tf.keras или keras. Используйте сверточные, пуллинговые и полносвязанные слои. Обучите на train выборке в течении 10 эпох, оцените качество на отложенной выборке"
   ]
  },
  {
   "cell_type": "code",
   "execution_count": 10,
   "metadata": {},
   "outputs": [],
   "source": [
    "i = keras.layers.Input(shape=(224,224,3))\n",
    "o = keras.layers.Conv2D(16, (5,5), strides=(3,3))(i)\n",
    "o = keras.layers.MaxPool2D((2,2))(o)\n",
    "o = keras.layers.ReLU()(o)\n",
    "o = keras.layers.Conv2D(32, (3,3))(o)\n",
    "o = keras.layers.MaxPool2D((2,2))(o)\n",
    "o = keras.layers.ReLU()(o)\n",
    "o = keras.layers.Conv2D(64, (3,3), strides=(1,1))(o)\n",
    "o = keras.layers.MaxPool2D((2,2))(o)\n",
    "o = keras.layers.ReLU()(o)\n",
    "o = keras.layers.Flatten()(o)\n",
    "o = keras.layers.Dense(1, activation='sigmoid')(o)"
   ]
  },
  {
   "cell_type": "code",
   "execution_count": 11,
   "metadata": {},
   "outputs": [
    {
     "name": "stdout",
     "output_type": "stream",
     "text": [
      "Model: \"functional_1\"\n",
      "_________________________________________________________________\n",
      "Layer (type)                 Output Shape              Param #   \n",
      "=================================================================\n",
      "input_2 (InputLayer)         [(None, 224, 224, 3)]     0         \n",
      "_________________________________________________________________\n",
      "conv2d_3 (Conv2D)            (None, 74, 74, 16)        1216      \n",
      "_________________________________________________________________\n",
      "max_pooling2d_3 (MaxPooling2 (None, 37, 37, 16)        0         \n",
      "_________________________________________________________________\n",
      "re_lu_3 (ReLU)               (None, 37, 37, 16)        0         \n",
      "_________________________________________________________________\n",
      "conv2d_4 (Conv2D)            (None, 35, 35, 32)        4640      \n",
      "_________________________________________________________________\n",
      "max_pooling2d_4 (MaxPooling2 (None, 17, 17, 32)        0         \n",
      "_________________________________________________________________\n",
      "re_lu_4 (ReLU)               (None, 17, 17, 32)        0         \n",
      "_________________________________________________________________\n",
      "conv2d_5 (Conv2D)            (None, 15, 15, 64)        18496     \n",
      "_________________________________________________________________\n",
      "max_pooling2d_5 (MaxPooling2 (None, 7, 7, 64)          0         \n",
      "_________________________________________________________________\n",
      "re_lu_5 (ReLU)               (None, 7, 7, 64)          0         \n",
      "_________________________________________________________________\n",
      "flatten_1 (Flatten)          (None, 3136)              0         \n",
      "_________________________________________________________________\n",
      "dense_1 (Dense)              (None, 1)                 3137      \n",
      "=================================================================\n",
      "Total params: 27,489\n",
      "Trainable params: 27,489\n",
      "Non-trainable params: 0\n",
      "_________________________________________________________________\n"
     ]
    }
   ],
   "source": [
    "model = keras.Model(inputs=i, outputs=o)\n",
    "model.compile(optimizer='adam', loss='binary_crossentropy', metrics=['accuracy'])\n",
    "model.summary()"
   ]
  },
  {
   "cell_type": "code",
   "execution_count": 12,
   "metadata": {},
   "outputs": [
    {
     "name": "stdout",
     "output_type": "stream",
     "text": [
      "Epoch 1/10\n",
      "8/8 [==============================] - 13s 2s/step - loss: 0.7017 - accuracy: 0.5164 - val_loss: 0.6852 - val_accuracy: 0.5425\n",
      "Epoch 2/10\n",
      "8/8 [==============================] - 3s 322ms/step - loss: 0.6863 - accuracy: 0.5820 - val_loss: 0.6846 - val_accuracy: 0.6078\n",
      "Epoch 3/10\n",
      "8/8 [==============================] - 2s 309ms/step - loss: 0.6765 - accuracy: 0.5820 - val_loss: 0.6716 - val_accuracy: 0.6536\n",
      "Epoch 4/10\n",
      "8/8 [==============================] - 3s 327ms/step - loss: 0.6511 - accuracy: 0.6516 - val_loss: 0.6537 - val_accuracy: 0.6601\n",
      "Epoch 5/10\n",
      "8/8 [==============================] - 3s 332ms/step - loss: 0.6140 - accuracy: 0.6680 - val_loss: 0.6830 - val_accuracy: 0.5490\n",
      "Epoch 6/10\n",
      "8/8 [==============================] - 3s 327ms/step - loss: 0.5737 - accuracy: 0.7049 - val_loss: 0.6592 - val_accuracy: 0.6275\n",
      "Epoch 7/10\n",
      "8/8 [==============================] - 3s 397ms/step - loss: 0.5422 - accuracy: 0.7500 - val_loss: 0.6135 - val_accuracy: 0.6863\n",
      "Epoch 8/10\n",
      "8/8 [==============================] - 3s 395ms/step - loss: 0.5278 - accuracy: 0.7500 - val_loss: 0.6003 - val_accuracy: 0.6732\n",
      "Epoch 9/10\n",
      "8/8 [==============================] - 3s 370ms/step - loss: 0.5177 - accuracy: 0.7418 - val_loss: 0.6179 - val_accuracy: 0.6667\n",
      "Epoch 10/10\n",
      "8/8 [==============================] - 3s 354ms/step - loss: 0.4758 - accuracy: 0.7828 - val_loss: 0.6278 - val_accuracy: 0.6601\n"
     ]
    },
    {
     "data": {
      "text/plain": [
       "<tensorflow.python.keras.callbacks.History at 0x1ee83709408>"
      ]
     },
     "execution_count": 12,
     "metadata": {},
     "output_type": "execute_result"
    }
   ],
   "source": [
    "model.fit(train, epochs=10, validation_data=test)"
   ]
  },
  {
   "cell_type": "markdown",
   "metadata": {},
   "source": [
    "**После десяти эпох точность составляет 0.7828**"
   ]
  },
  {
   "cell_type": "markdown",
   "metadata": {},
   "source": [
    "#### 3. Добавьте в предыдущую архитектуру слои BatchNorm. Обучите на train выборке в течении 10 эпох, оцените качество на отложенной выборке"
   ]
  },
  {
   "cell_type": "code",
   "execution_count": 30,
   "metadata": {},
   "outputs": [],
   "source": [
    "i = keras.layers.Input(shape=(224,224,3))\n",
    "o = keras.layers.BatchNormalization()(i)\n",
    "o = keras.layers.Conv2D(16, (5,5), strides=(3,3))(o)\n",
    "o = keras.layers.MaxPool2D((2,2))(o)\n",
    "o = keras.layers.ReLU()(o)\n",
    "o = keras.layers.BatchNormalization()(o)\n",
    "o = keras.layers.Conv2D(32, (3,3))(o)\n",
    "o = keras.layers.MaxPool2D((2,2))(o)\n",
    "o = keras.layers.ReLU()(o)\n",
    "o = keras.layers.BatchNormalization()(o)\n",
    "o = keras.layers.Conv2D(64, (3,3), strides=(1,1))(o)\n",
    "o = keras.layers.MaxPool2D((2,2))(o)\n",
    "o = keras.layers.ReLU()(o)\n",
    "o = keras.layers.BatchNormalization()(o)\n",
    "o = keras.layers.Flatten()(o)\n",
    "o = keras.layers.Dense(1, activation='sigmoid')(o)"
   ]
  },
  {
   "cell_type": "code",
   "execution_count": 14,
   "metadata": {},
   "outputs": [
    {
     "name": "stdout",
     "output_type": "stream",
     "text": [
      "Model: \"functional_3\"\n",
      "_________________________________________________________________\n",
      "Layer (type)                 Output Shape              Param #   \n",
      "=================================================================\n",
      "input_3 (InputLayer)         [(None, 224, 224, 3)]     0         \n",
      "_________________________________________________________________\n",
      "batch_normalization (BatchNo (None, 224, 224, 3)       12        \n",
      "_________________________________________________________________\n",
      "conv2d_6 (Conv2D)            (None, 74, 74, 16)        1216      \n",
      "_________________________________________________________________\n",
      "max_pooling2d_6 (MaxPooling2 (None, 37, 37, 16)        0         \n",
      "_________________________________________________________________\n",
      "re_lu_6 (ReLU)               (None, 37, 37, 16)        0         \n",
      "_________________________________________________________________\n",
      "batch_normalization_1 (Batch (None, 37, 37, 16)        64        \n",
      "_________________________________________________________________\n",
      "conv2d_7 (Conv2D)            (None, 35, 35, 32)        4640      \n",
      "_________________________________________________________________\n",
      "max_pooling2d_7 (MaxPooling2 (None, 17, 17, 32)        0         \n",
      "_________________________________________________________________\n",
      "re_lu_7 (ReLU)               (None, 17, 17, 32)        0         \n",
      "_________________________________________________________________\n",
      "batch_normalization_2 (Batch (None, 17, 17, 32)        128       \n",
      "_________________________________________________________________\n",
      "conv2d_8 (Conv2D)            (None, 15, 15, 64)        18496     \n",
      "_________________________________________________________________\n",
      "max_pooling2d_8 (MaxPooling2 (None, 7, 7, 64)          0         \n",
      "_________________________________________________________________\n",
      "re_lu_8 (ReLU)               (None, 7, 7, 64)          0         \n",
      "_________________________________________________________________\n",
      "batch_normalization_3 (Batch (None, 7, 7, 64)          256       \n",
      "_________________________________________________________________\n",
      "flatten_2 (Flatten)          (None, 3136)              0         \n",
      "_________________________________________________________________\n",
      "dense_2 (Dense)              (None, 1)                 3137      \n",
      "=================================================================\n",
      "Total params: 27,949\n",
      "Trainable params: 27,719\n",
      "Non-trainable params: 230\n",
      "_________________________________________________________________\n"
     ]
    }
   ],
   "source": [
    "model = keras.Model(inputs=i, outputs=o)\n",
    "model.compile(optimizer='adam', loss='binary_crossentropy', metrics=['accuracy'])\n",
    "model.summary()"
   ]
  },
  {
   "cell_type": "code",
   "execution_count": 15,
   "metadata": {},
   "outputs": [
    {
     "name": "stdout",
     "output_type": "stream",
     "text": [
      "Epoch 1/10\n",
      "8/8 [==============================] - 5s 612ms/step - loss: 0.8498 - accuracy: 0.5656 - val_loss: 0.6850 - val_accuracy: 0.6209\n",
      "Epoch 2/10\n",
      "8/8 [==============================] - 5s 578ms/step - loss: 0.3597 - accuracy: 0.8402 - val_loss: 0.6935 - val_accuracy: 0.4902\n",
      "Epoch 3/10\n",
      "8/8 [==============================] - 5s 578ms/step - loss: 0.2139 - accuracy: 0.9385 - val_loss: 0.7052 - val_accuracy: 0.4575\n",
      "Epoch 4/10\n",
      "8/8 [==============================] - 5s 589ms/step - loss: 0.1339 - accuracy: 0.9918 - val_loss: 0.7355 - val_accuracy: 0.4575\n",
      "Epoch 5/10\n",
      "8/8 [==============================] - 5s 568ms/step - loss: 0.0852 - accuracy: 0.9918 - val_loss: 0.7645 - val_accuracy: 0.4575\n",
      "Epoch 6/10\n",
      "8/8 [==============================] - 4s 558ms/step - loss: 0.0646 - accuracy: 1.0000 - val_loss: 0.7616 - val_accuracy: 0.4575\n",
      "Epoch 7/10\n",
      "8/8 [==============================] - 5s 566ms/step - loss: 0.0436 - accuracy: 1.0000 - val_loss: 0.8535 - val_accuracy: 0.4575\n",
      "Epoch 8/10\n",
      "8/8 [==============================] - 5s 595ms/step - loss: 0.0315 - accuracy: 1.0000 - val_loss: 0.9224 - val_accuracy: 0.4575\n",
      "Epoch 9/10\n",
      "8/8 [==============================] - 5s 630ms/step - loss: 0.0300 - accuracy: 1.0000 - val_loss: 0.9056 - val_accuracy: 0.4575\n",
      "Epoch 10/10\n",
      "8/8 [==============================] - 4s 562ms/step - loss: 0.0220 - accuracy: 1.0000 - val_loss: 0.9574 - val_accuracy: 0.4575\n"
     ]
    },
    {
     "data": {
      "text/plain": [
       "<tensorflow.python.keras.callbacks.History at 0x1ee8281d408>"
      ]
     },
     "execution_count": 15,
     "metadata": {},
     "output_type": "execute_result"
    }
   ],
   "source": [
    "model.fit(train, epochs=10, validation_data=test)"
   ]
  },
  {
   "cell_type": "markdown",
   "metadata": {},
   "source": [
    "**Добавление слоя BatchNorm существенно подняла точность классификации (практически 1.00)**"
   ]
  },
  {
   "cell_type": "markdown",
   "metadata": {},
   "source": [
    "#### 4. Создайте модель ResNet 50 (https://www.tensorflow.org/api_docs/python/tf/keras/applications/ResNet50), инициализированную случайными весами, и обучите ее на train выборке в течении 10 эпох, оцените качество на отложенной выборке"
   ]
  },
  {
   "cell_type": "code",
   "execution_count": 24,
   "metadata": {},
   "outputs": [
    {
     "name": "stdout",
     "output_type": "stream",
     "text": [
      "Found 244 images belonging to 2 classes.\n",
      "Found 153 images belonging to 2 classes.\n"
     ]
    }
   ],
   "source": [
    "train_generator = keras.preprocessing.image.ImageDataGenerator()\n",
    "test_generator = keras.preprocessing.image.ImageDataGenerator()\n",
    "train = train_generator.flow_from_directory('hymenoptera_data/train', target_size=(224, 224), batch_size=32, class_mode='binary')\n",
    "test = test_generator.flow_from_directory('hymenoptera_data/val', target_size=(224, 224), batch_size=32, class_mode='binary')"
   ]
  },
  {
   "cell_type": "code",
   "execution_count": 19,
   "metadata": {},
   "outputs": [],
   "source": [
    "ResNet50 = keras.applications.ResNet50(\n",
    "    include_top=False, weights=None, input_tensor=None, input_shape=None,\n",
    "    pooling=None, classes=1000 #, **kwargs\n",
    ")"
   ]
  },
  {
   "cell_type": "code",
   "execution_count": 21,
   "metadata": {},
   "outputs": [],
   "source": [
    "i = keras.layers.Input((224, 224, 3), dtype = tf.uint8)\n",
    "o = tf.cast(i, tf.float32)\n",
    "#o = keras.applications.ResNet50.preprocess_input(o)\n",
    "o = ResNet50(o)\n",
    "o = keras.layers.Flatten()(o)\n",
    "o = keras.layers.Dense(1, activation='sigmoid')(o)"
   ]
  },
  {
   "cell_type": "code",
   "execution_count": 22,
   "metadata": {},
   "outputs": [
    {
     "name": "stdout",
     "output_type": "stream",
     "text": [
      "Model: \"functional_5\"\n",
      "_________________________________________________________________\n",
      "Layer (type)                 Output Shape              Param #   \n",
      "=================================================================\n",
      "input_7 (InputLayer)         [(None, 224, 224, 3)]     0         \n",
      "_________________________________________________________________\n",
      "tf_op_layer_Cast_1 (TensorFl [(None, 224, 224, 3)]     0         \n",
      "_________________________________________________________________\n",
      "resnet50 (Functional)        (None, None, None, 2048)  23587712  \n",
      "_________________________________________________________________\n",
      "flatten_3 (Flatten)          (None, 100352)            0         \n",
      "_________________________________________________________________\n",
      "dense_3 (Dense)              (None, 1)                 100353    \n",
      "=================================================================\n",
      "Total params: 23,688,065\n",
      "Trainable params: 23,634,945\n",
      "Non-trainable params: 53,120\n",
      "_________________________________________________________________\n"
     ]
    }
   ],
   "source": [
    "model = keras.Model(inputs=i, outputs=o)\n",
    "model.compile(optimizer='adam', loss='binary_crossentropy', metrics=['accuracy'])\n",
    "model.summary()"
   ]
  },
  {
   "cell_type": "code",
   "execution_count": 23,
   "metadata": {
    "scrolled": true
   },
   "outputs": [
    {
     "name": "stdout",
     "output_type": "stream",
     "text": [
      "Epoch 1/10\n",
      "8/8 [==============================] - 148s 18s/step - loss: 12.2690 - accuracy: 0.4672 - val_loss: 19414.1562 - val_accuracy: 0.5425\n",
      "Epoch 2/10\n",
      "8/8 [==============================] - 133s 17s/step - loss: 4.8321 - accuracy: 0.5000 - val_loss: 850299.3750 - val_accuracy: 0.4575\n",
      "Epoch 3/10\n",
      "8/8 [==============================] - 137s 17s/step - loss: 2.6104 - accuracy: 0.5369 - val_loss: 1757783.2500 - val_accuracy: 0.4575\n",
      "Epoch 4/10\n",
      "8/8 [==============================] - 140s 17s/step - loss: 6.5940 - accuracy: 0.4426 - val_loss: 4465.8555 - val_accuracy: 0.4575\n",
      "Epoch 5/10\n",
      "8/8 [==============================] - 135s 17s/step - loss: 4.4784 - accuracy: 0.5697 - val_loss: 15.3947 - val_accuracy: 0.5490\n",
      "Epoch 6/10\n",
      "8/8 [==============================] - 140s 17s/step - loss: 3.5280 - accuracy: 0.5328 - val_loss: 4.2987 - val_accuracy: 0.4575\n",
      "Epoch 7/10\n",
      "8/8 [==============================] - 151s 19s/step - loss: 2.5760 - accuracy: 0.6557 - val_loss: 19.7661 - val_accuracy: 0.4575\n",
      "Epoch 8/10\n",
      "8/8 [==============================] - 153s 19s/step - loss: 2.8663 - accuracy: 0.5779 - val_loss: 2327.8220 - val_accuracy: 0.5425\n",
      "Epoch 9/10\n",
      "8/8 [==============================] - 132s 17s/step - loss: 2.4762 - accuracy: 0.5738 - val_loss: 795.2126 - val_accuracy: 0.4641\n",
      "Epoch 10/10\n",
      "8/8 [==============================] - 131s 16s/step - loss: 1.4412 - accuracy: 0.6803 - val_loss: 9932.7383 - val_accuracy: 0.5425\n"
     ]
    },
    {
     "data": {
      "text/plain": [
       "<tensorflow.python.keras.callbacks.History at 0x1ee88538588>"
      ]
     },
     "execution_count": 23,
     "metadata": {},
     "output_type": "execute_result"
    }
   ],
   "source": [
    "model.fit(train, epochs=10, validation_data=test)"
   ]
  },
  {
   "cell_type": "markdown",
   "metadata": {},
   "source": [
    "**Использование модели ResNet50 без предобученных весов требует большего количества эпох для обучения. Максимум точности составило 0.6803, причём точность не монотонно возрастала.**"
   ]
  },
  {
   "cell_type": "markdown",
   "metadata": {},
   "source": [
    "#### 5. Создайте модель ResNet 50, инициализированную весами ImageNet, и обучите ее на train выборке в течении 10 эпох, оцените качество на отложенной выборке"
   ]
  },
  {
   "cell_type": "code",
   "execution_count": 25,
   "metadata": {},
   "outputs": [
    {
     "name": "stdout",
     "output_type": "stream",
     "text": [
      "Downloading data from https://storage.googleapis.com/tensorflow/keras-applications/resnet/resnet50_weights_tf_dim_ordering_tf_kernels_notop.h5\n",
      "94773248/94765736 [==============================] - 17s 0us/step\n"
     ]
    }
   ],
   "source": [
    "ResNet50 = keras.applications.ResNet50(\n",
    "    include_top=False, weights='imagenet', input_tensor=None, input_shape=None,\n",
    "    pooling=None, classes=1000 #, **kwargs\n",
    ")"
   ]
  },
  {
   "cell_type": "code",
   "execution_count": 26,
   "metadata": {},
   "outputs": [],
   "source": [
    "i = keras.layers.Input((224, 224, 3), dtype = tf.uint8)\n",
    "o = tf.cast(i, tf.float32)\n",
    "#o = keras.applications.ResNet50.preprocess_input(o)\n",
    "o = ResNet50(o)\n",
    "o = keras.layers.Flatten()(o)\n",
    "o = keras.layers.Dense(1, activation='sigmoid')(o)"
   ]
  },
  {
   "cell_type": "code",
   "execution_count": 27,
   "metadata": {},
   "outputs": [],
   "source": [
    "ResNet50.trainable = False"
   ]
  },
  {
   "cell_type": "code",
   "execution_count": 28,
   "metadata": {},
   "outputs": [
    {
     "name": "stdout",
     "output_type": "stream",
     "text": [
      "Model: \"functional_7\"\n",
      "_________________________________________________________________\n",
      "Layer (type)                 Output Shape              Param #   \n",
      "=================================================================\n",
      "input_9 (InputLayer)         [(None, 224, 224, 3)]     0         \n",
      "_________________________________________________________________\n",
      "tf_op_layer_Cast_2 (TensorFl [(None, 224, 224, 3)]     0         \n",
      "_________________________________________________________________\n",
      "resnet50 (Functional)        (None, None, None, 2048)  23587712  \n",
      "_________________________________________________________________\n",
      "flatten_4 (Flatten)          (None, 100352)            0         \n",
      "_________________________________________________________________\n",
      "dense_4 (Dense)              (None, 1)                 100353    \n",
      "=================================================================\n",
      "Total params: 23,688,065\n",
      "Trainable params: 100,353\n",
      "Non-trainable params: 23,587,712\n",
      "_________________________________________________________________\n"
     ]
    }
   ],
   "source": [
    "model = keras.Model(inputs=i, outputs=o)\n",
    "model.compile(optimizer='adam', loss='binary_crossentropy', metrics=['accuracy'])\n",
    "model.summary()"
   ]
  },
  {
   "cell_type": "code",
   "execution_count": 29,
   "metadata": {},
   "outputs": [
    {
     "name": "stdout",
     "output_type": "stream",
     "text": [
      "Epoch 1/10\n",
      "8/8 [==============================] - 27s 3s/step - loss: 1.6918 - accuracy: 0.7377 - val_loss: 2.2990 - val_accuracy: 0.7974\n",
      "Epoch 2/10\n",
      "8/8 [==============================] - 24s 3s/step - loss: 0.1947 - accuracy: 0.9672 - val_loss: 1.2409 - val_accuracy: 0.8758\n",
      "Epoch 3/10\n",
      "8/8 [==============================] - 22s 3s/step - loss: 0.0041 - accuracy: 1.0000 - val_loss: 1.4874 - val_accuracy: 0.8627\n",
      "Epoch 4/10\n",
      "8/8 [==============================] - 22s 3s/step - loss: 0.0103 - accuracy: 0.9959 - val_loss: 1.5526 - val_accuracy: 0.8627\n",
      "Epoch 5/10\n",
      "8/8 [==============================] - 22s 3s/step - loss: 3.0368e-04 - accuracy: 1.0000 - val_loss: 1.3674 - val_accuracy: 0.8758\n",
      "Epoch 6/10\n",
      "8/8 [==============================] - 22s 3s/step - loss: 3.8023e-04 - accuracy: 1.0000 - val_loss: 1.3451 - val_accuracy: 0.8758\n",
      "Epoch 7/10\n",
      "8/8 [==============================] - 23s 3s/step - loss: 1.2067e-04 - accuracy: 1.0000 - val_loss: 1.3483 - val_accuracy: 0.8758\n",
      "Epoch 8/10\n",
      "8/8 [==============================] - 22s 3s/step - loss: 3.9243e-05 - accuracy: 1.0000 - val_loss: 1.3534 - val_accuracy: 0.8758\n",
      "Epoch 9/10\n",
      "8/8 [==============================] - 23s 3s/step - loss: 2.4398e-05 - accuracy: 1.0000 - val_loss: 1.3578 - val_accuracy: 0.8758\n",
      "Epoch 10/10\n",
      "8/8 [==============================] - 22s 3s/step - loss: 1.3728e-05 - accuracy: 1.0000 - val_loss: 1.3605 - val_accuracy: 0.8758\n"
     ]
    },
    {
     "data": {
      "text/plain": [
       "<tensorflow.python.keras.callbacks.History at 0x1ee85c42b88>"
      ]
     },
     "execution_count": 29,
     "metadata": {},
     "output_type": "execute_result"
    }
   ],
   "source": [
    "model.fit(train, epochs=10, validation_data=test)"
   ]
  },
  {
   "cell_type": "markdown",
   "metadata": {},
   "source": [
    "**Судя по результатам не только точность стала практически равной единичке, но и loss очень близок к нулю. Следовательно, предобученные веса модели позволяют добиться существенной точности за малое количество эпох.**"
   ]
  },
  {
   "cell_type": "markdown",
   "metadata": {},
   "source": [
    "---"
   ]
  },
  {
   "cell_type": "code",
   "execution_count": 2,
   "metadata": {},
   "outputs": [
    {
     "name": "stdout",
     "output_type": "stream",
     "text": [
      "Collecting tensorflow\n",
      "  Downloading tensorflow-2.3.0-cp37-cp37m-win_amd64.whl (342.5 MB)\n",
      "Collecting tensorboard<3,>=2.3.0\n",
      "  Downloading tensorboard-2.3.0-py3-none-any.whl (6.8 MB)\n",
      "Collecting tensorflow-estimator<2.4.0,>=2.3.0\n",
      "  Downloading tensorflow_estimator-2.3.0-py2.py3-none-any.whl (459 kB)\n",
      "Collecting opt-einsum>=2.3.2\n",
      "  Downloading opt_einsum-3.3.0-py3-none-any.whl (65 kB)\n",
      "Collecting astunparse==1.6.3\n",
      "  Downloading astunparse-1.6.3-py2.py3-none-any.whl (12 kB)\n",
      "Collecting protobuf>=3.9.2\n",
      "  Downloading protobuf-3.13.0-cp37-cp37m-win_amd64.whl (1.0 MB)\n",
      "Requirement already satisfied: six>=1.12.0 in c:\\programdata\\anaconda3\\lib\\site-packages (from tensorflow) (1.14.0)\n",
      "Collecting termcolor>=1.1.0\n",
      "  Downloading termcolor-1.1.0.tar.gz (3.9 kB)\n",
      "Collecting absl-py>=0.7.0\n",
      "  Downloading absl_py-0.10.0-py3-none-any.whl (127 kB)\n",
      "Requirement already satisfied: numpy<1.19.0,>=1.16.0 in c:\\programdata\\anaconda3\\lib\\site-packages (from tensorflow) (1.18.1)\n",
      "Collecting google-pasta>=0.1.8\n",
      "  Downloading google_pasta-0.2.0-py3-none-any.whl (57 kB)\n",
      "Requirement already satisfied: scipy==1.4.1 in c:\\programdata\\anaconda3\\lib\\site-packages (from tensorflow) (1.4.1)\n",
      "Collecting gast==0.3.3\n",
      "  Downloading gast-0.3.3-py2.py3-none-any.whl (9.7 kB)\n",
      "Collecting keras-preprocessing<1.2,>=1.1.1\n",
      "  Downloading Keras_Preprocessing-1.1.2-py2.py3-none-any.whl (42 kB)\n",
      "Collecting grpcio>=1.8.6\n",
      "  Downloading grpcio-1.31.0-cp37-cp37m-win_amd64.whl (2.4 MB)\n",
      "Requirement already satisfied: wheel>=0.26 in c:\\programdata\\anaconda3\\lib\\site-packages (from tensorflow) (0.34.2)\n",
      "Requirement already satisfied: h5py<2.11.0,>=2.10.0 in c:\\programdata\\anaconda3\\lib\\site-packages (from tensorflow) (2.10.0)\n",
      "Requirement already satisfied: wrapt>=1.11.1 in c:\\programdata\\anaconda3\\lib\\site-packages (from tensorflow) (1.11.2)\n",
      "Collecting google-auth<2,>=1.6.3\n",
      "  Downloading google_auth-1.21.0-py2.py3-none-any.whl (92 kB)\n",
      "Collecting markdown>=2.6.8\n",
      "  Downloading Markdown-3.2.2-py3-none-any.whl (88 kB)\n",
      "Requirement already satisfied: setuptools>=41.0.0 in c:\\programdata\\anaconda3\\lib\\site-packages (from tensorboard<3,>=2.3.0->tensorflow) (45.2.0.post20200210)\n",
      "Collecting google-auth-oauthlib<0.5,>=0.4.1\n",
      "  Downloading google_auth_oauthlib-0.4.1-py2.py3-none-any.whl (18 kB)\n",
      "Requirement already satisfied: werkzeug>=0.11.15 in c:\\programdata\\anaconda3\\lib\\site-packages (from tensorboard<3,>=2.3.0->tensorflow) (1.0.0)\n",
      "Requirement already satisfied: requests<3,>=2.21.0 in c:\\users\\dizel\\appdata\\roaming\\python\\python37\\site-packages (from tensorboard<3,>=2.3.0->tensorflow) (2.23.0)\n",
      "Collecting tensorboard-plugin-wit>=1.6.0\n",
      "  Downloading tensorboard_plugin_wit-1.7.0-py3-none-any.whl (779 kB)\n",
      "Collecting cachetools<5.0,>=2.0.0\n",
      "  Downloading cachetools-4.1.1-py3-none-any.whl (10 kB)\n",
      "Collecting pyasn1-modules>=0.2.1\n",
      "  Downloading pyasn1_modules-0.2.8-py2.py3-none-any.whl (155 kB)\n",
      "Collecting rsa<5,>=3.1.4; python_version >= \"3.5\"\n",
      "  Downloading rsa-4.6-py3-none-any.whl (47 kB)\n",
      "Requirement already satisfied: importlib-metadata; python_version < \"3.8\" in c:\\programdata\\anaconda3\\lib\\site-packages (from markdown>=2.6.8->tensorboard<3,>=2.3.0->tensorflow) (1.5.0)\n",
      "Collecting requests-oauthlib>=0.7.0\n",
      "  Downloading requests_oauthlib-1.3.0-py2.py3-none-any.whl (23 kB)\n",
      "Requirement already satisfied: idna<3,>=2.5 in c:\\programdata\\anaconda3\\lib\\site-packages (from requests<3,>=2.21.0->tensorboard<3,>=2.3.0->tensorflow) (2.8)\n",
      "Requirement already satisfied: urllib3!=1.25.0,!=1.25.1,<1.26,>=1.21.1 in c:\\programdata\\anaconda3\\lib\\site-packages (from requests<3,>=2.21.0->tensorboard<3,>=2.3.0->tensorflow) (1.25.8)\n",
      "Requirement already satisfied: certifi>=2017.4.17 in c:\\programdata\\anaconda3\\lib\\site-packages (from requests<3,>=2.21.0->tensorboard<3,>=2.3.0->tensorflow) (2019.11.28)\n",
      "Requirement already satisfied: chardet<4,>=3.0.2 in c:\\programdata\\anaconda3\\lib\\site-packages (from requests<3,>=2.21.0->tensorboard<3,>=2.3.0->tensorflow) (3.0.4)\n",
      "Collecting pyasn1<0.5.0,>=0.4.6\n",
      "  Downloading pyasn1-0.4.8-py2.py3-none-any.whl (77 kB)\n",
      "Requirement already satisfied: zipp>=0.5 in c:\\programdata\\anaconda3\\lib\\site-packages (from importlib-metadata; python_version < \"3.8\"->markdown>=2.6.8->tensorboard<3,>=2.3.0->tensorflow) (2.2.0)\n",
      "Collecting oauthlib>=3.0.0\n",
      "  Downloading oauthlib-3.1.0-py2.py3-none-any.whl (147 kB)\n",
      "Building wheels for collected packages: termcolor\n",
      "  Building wheel for termcolor (setup.py): started\n",
      "  Building wheel for termcolor (setup.py): finished with status 'done'\n",
      "  Created wheel for termcolor: filename=termcolor-1.1.0-py3-none-any.whl size=4835 sha256=8332a6cea1533481bd641dd1eb9e2690c603c23f11a64b9f1fcc001ab874216d\n",
      "  Stored in directory: c:\\users\\dizel\\appdata\\local\\pip\\cache\\wheels\\3f\\e3\\ec\\8a8336ff196023622fbcb36de0c5a5c218cbb24111d1d4c7f2\n",
      "Successfully built termcolor\n",
      "Installing collected packages: cachetools, pyasn1, pyasn1-modules, rsa, google-auth, markdown, oauthlib, requests-oauthlib, google-auth-oauthlib, absl-py, grpcio, protobuf, tensorboard-plugin-wit, tensorboard, tensorflow-estimator, opt-einsum, astunparse, termcolor, google-pasta, gast, keras-preprocessing, tensorflow\n",
      "Successfully installed absl-py-0.10.0 astunparse-1.6.3 cachetools-4.1.1 gast-0.3.3 google-auth-1.21.0 google-auth-oauthlib-0.4.1 google-pasta-0.2.0 grpcio-1.31.0 keras-preprocessing-1.1.2 markdown-3.2.2 oauthlib-3.1.0 opt-einsum-3.3.0 protobuf-3.13.0 pyasn1-0.4.8 pyasn1-modules-0.2.8 requests-oauthlib-1.3.0 rsa-4.6 tensorboard-2.3.0 tensorboard-plugin-wit-1.7.0 tensorflow-2.3.0 tensorflow-estimator-2.3.0 termcolor-1.1.0\n"
     ]
    }
   ],
   "source": [
    "!pip install tensorflow"
   ]
  }
 ],
 "metadata": {
  "kernelspec": {
   "display_name": "Python 3",
   "language": "python",
   "name": "python3"
  },
  "language_info": {
   "codemirror_mode": {
    "name": "ipython",
    "version": 3
   },
   "file_extension": ".py",
   "mimetype": "text/x-python",
   "name": "python",
   "nbconvert_exporter": "python",
   "pygments_lexer": "ipython3",
   "version": "3.7.6"
  }
 },
 "nbformat": 4,
 "nbformat_minor": 4
}
